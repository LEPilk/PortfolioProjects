{
 "cells": [
  {
   "cell_type": "markdown",
   "id": "f6e75bff",
   "metadata": {
    "papermill": {
     "duration": 0.014731,
     "end_time": "2021-08-23T15:17:00.390994",
     "exception": false,
     "start_time": "2021-08-23T15:17:00.376263",
     "status": "completed"
    },
    "tags": []
   },
   "source": [
    "# Google Data Analytics Capstone: BikeShare\"\n",
    "### Date: August 2021\n",
    "\n",
    "As part of the Google Data Analytics Capstone course, I had to prepare a case study. I've chosen the Cyclistic Bike Share. It's an interesting scenario with real world practice. "
   ]
  },
  {
   "cell_type": "markdown",
   "id": "04f328d3",
   "metadata": {
    "papermill": {
     "duration": 0.013123,
     "end_time": "2021-08-23T15:17:00.419506",
     "exception": false,
     "start_time": "2021-08-23T15:17:00.406383",
     "status": "completed"
    },
    "tags": []
   },
   "source": [
    "## Scenario [As Given By Course]\n",
    "\n",
    "You are a junior data analyst working in the marketing analyst team at Cyclistic, a bike-share company in Chicago. \n",
    "\n",
    "The director of marketing believes the company’s future success depends on maximizing the number of annual memberships. Therefore, your team wants to understand how casual riders and annual members use Cyclistic bikes differently. \n",
    "\n",
    "From these insights, your team will design a new marketing strategy to convert casual riders into annual members. But first, Cyclistic executives must approve your recommendations, so they must be backed up with compelling data insights and professional data visualizations."
   ]
  },
  {
   "cell_type": "markdown",
   "id": "99bd5bae",
   "metadata": {
    "papermill": {
     "duration": 0.013055,
     "end_time": "2021-08-23T15:17:00.445696",
     "exception": false,
     "start_time": "2021-08-23T15:17:00.432641",
     "status": "completed"
    },
    "tags": []
   },
   "source": [
    "## Ask\n",
    "\n",
    "### Identify the business goal:\n",
    "\n",
    "1. How do annual members and casual riders use Cyclistic bikes differently?\n",
    "2. Why would casual riders buy Cyclistic annual memberships?\n",
    "3. How can Cyclistic use digital media to influence casual riders to become members?\n",
    "\n",
    "My primary duty as the data analyst is to answer the first question and find the key differences between annual members and casual users. \n",
    "\n",
    "Once I review the data I will have a clearer idea of the potential metrics that will help answer that question. \n",
    "\n",
    "### Identify and consider the key stakeholders:\n",
    "\n",
    "- Primary stakeholders are the Director of Marketing (Lily Moreno) and the Cyclistic executive team.\n",
    "- Secondary stakeholders include the marketing analytics team."
   ]
  },
  {
   "cell_type": "markdown",
   "id": "c17be0f4",
   "metadata": {
    "papermill": {
     "duration": 0.013036,
     "end_time": "2021-08-23T15:17:00.471678",
     "exception": false,
     "start_time": "2021-08-23T15:17:00.458642",
     "status": "completed"
    },
    "tags": []
   },
   "source": [
    "## Prepare\n",
    "\n",
    "### Data Source and Notes:\n",
    "\n",
    "[This is a public dataset source](https://divvy-tripdata.s3.amazonaws.com/index.html). For the purpose of this case study, this data will be considered original.  The data has been made available by Motivate International Inc. under this [license](https://www.divvybikes.com/data-license-agreement).)\n",
    "\n",
    "Reviewing the previous year (July 2020 - June 2021), there is a large amount of data. There are some inconsistences (noted below), but overall the data is reliable. \n",
    "\n",
    "### Tools\n",
    "\n",
    "For this project, I have decided to use R. It can handle wrangling the large dataset, has analysis functions, and options to visualize. In addition, this would give me more experience working with R."
   ]
  },
  {
   "cell_type": "markdown",
   "id": "5d8b8d7d",
   "metadata": {
    "papermill": {
     "duration": 0.012962,
     "end_time": "2021-08-23T15:17:00.497602",
     "exception": false,
     "start_time": "2021-08-23T15:17:00.484640",
     "status": "completed"
    },
    "tags": []
   },
   "source": [
    "## Process:\n",
    "\n",
    "I begin by installing the needed packages and libraries to make wrangling and cleaning the data easier."
   ]
  },
  {
   "cell_type": "code",
   "execution_count": 1,
   "id": "d92c590b",
   "metadata": {
    "execution": {
     "iopub.execute_input": "2021-08-23T15:17:00.533049Z",
     "iopub.status.busy": "2021-08-23T15:17:00.529612Z",
     "iopub.status.idle": "2021-08-23T15:17:02.192573Z",
     "shell.execute_reply": "2021-08-23T15:17:02.190991Z"
    },
    "papermill": {
     "duration": 1.682217,
     "end_time": "2021-08-23T15:17:02.192822",
     "exception": false,
     "start_time": "2021-08-23T15:17:00.510605",
     "status": "completed"
    },
    "tags": []
   },
   "outputs": [
    {
     "name": "stderr",
     "output_type": "stream",
     "text": [
      "── \u001b[1mAttaching packages\u001b[22m ─────────────────────────────────────── tidyverse 1.3.1 ──\n",
      "\n",
      "\u001b[32m✔\u001b[39m \u001b[34mggplot2\u001b[39m 3.3.4     \u001b[32m✔\u001b[39m \u001b[34mpurrr  \u001b[39m 0.3.4\n",
      "\u001b[32m✔\u001b[39m \u001b[34mtibble \u001b[39m 3.1.2     \u001b[32m✔\u001b[39m \u001b[34mdplyr  \u001b[39m 1.0.7\n",
      "\u001b[32m✔\u001b[39m \u001b[34mtidyr  \u001b[39m 1.1.3     \u001b[32m✔\u001b[39m \u001b[34mstringr\u001b[39m 1.4.0\n",
      "\u001b[32m✔\u001b[39m \u001b[34mreadr  \u001b[39m 1.4.0     \u001b[32m✔\u001b[39m \u001b[34mforcats\u001b[39m 0.5.1\n",
      "\n",
      "── \u001b[1mConflicts\u001b[22m ────────────────────────────────────────── tidyverse_conflicts() ──\n",
      "\u001b[31m✖\u001b[39m \u001b[34mdplyr\u001b[39m::\u001b[32mfilter()\u001b[39m masks \u001b[34mstats\u001b[39m::filter()\n",
      "\u001b[31m✖\u001b[39m \u001b[34mdplyr\u001b[39m::\u001b[32mlag()\u001b[39m    masks \u001b[34mstats\u001b[39m::lag()\n",
      "\n",
      "\n",
      "Attaching package: ‘janitor’\n",
      "\n",
      "\n",
      "The following objects are masked from ‘package:stats’:\n",
      "\n",
      "    chisq.test, fisher.test\n",
      "\n",
      "\n",
      "\n",
      "Attaching package: ‘lubridate’\n",
      "\n",
      "\n",
      "The following objects are masked from ‘package:base’:\n",
      "\n",
      "    date, intersect, setdiff, union\n",
      "\n",
      "\n",
      "\n",
      "Attaching package: ‘scales’\n",
      "\n",
      "\n",
      "The following object is masked from ‘package:purrr’:\n",
      "\n",
      "    discard\n",
      "\n",
      "\n",
      "The following object is masked from ‘package:readr’:\n",
      "\n",
      "    col_factor\n",
      "\n",
      "\n"
     ]
    }
   ],
   "source": [
    "#Loading up needed libraries\n",
    "library(tidyverse)\n",
    "library(janitor)\n",
    "library(lubridate)\n",
    "library(ggplot2)\n",
    "library(scales)"
   ]
  },
  {
   "cell_type": "markdown",
   "id": "522bc092",
   "metadata": {
    "papermill": {
     "duration": 0.016471,
     "end_time": "2021-08-23T15:17:02.226683",
     "exception": false,
     "start_time": "2021-08-23T15:17:02.210212",
     "status": "completed"
    },
    "tags": []
   },
   "source": [
    "I now bring in the past year's data so I set up my working directory and upload the files. "
   ]
  },
  {
   "cell_type": "code",
   "execution_count": 2,
   "id": "18944275",
   "metadata": {
    "execution": {
     "iopub.execute_input": "2021-08-23T15:17:02.300547Z",
     "iopub.status.busy": "2021-08-23T15:17:02.264522Z",
     "iopub.status.idle": "2021-08-23T15:18:45.649670Z",
     "shell.execute_reply": "2021-08-23T15:18:45.648524Z"
    },
    "papermill": {
     "duration": 103.406788,
     "end_time": "2021-08-23T15:18:45.649895",
     "exception": false,
     "start_time": "2021-08-23T15:17:02.243107",
     "status": "completed"
    },
    "tags": []
   },
   "outputs": [],
   "source": [
    "#Upload the previous 12 months of data\n",
    "bike0720<-read.csv(\"../input/july-2020-june-2021-divvy-data/202007-divvy-tripdata.csv\")\n",
    "bike0820<-read.csv(\"../input/july-2020-june-2021-divvy-data/202008-divvy-tripdata.csv\")\n",
    "bike0920<-read.csv(\"../input/july-2020-june-2021-divvy-data/202009-divvy-tripdata.csv\")\n",
    "bike1020<-read.csv(\"../input/july-2020-june-2021-divvy-data/202010-divvy-tripdata.csv\")\n",
    "bike1120<-read.csv(\"../input/july-2020-june-2021-divvy-data/202012-divvy-tripdata.csv\")\n",
    "bike1220<-read.csv(\"../input/july-2020-june-2021-divvy-data/202012-divvy-tripdata.csv\")\n",
    "bike0121<-read.csv(\"../input/july-2020-june-2021-divvy-data/202101-divvy-tripdata.csv\")\n",
    "bike0221<-read.csv(\"../input/july-2020-june-2021-divvy-data/202102-divvy-tripdata.csv\")\n",
    "bike0321<-read.csv(\"../input/july-2020-june-2021-divvy-data/202103-divvy-tripdata.csv\")\n",
    "bike0421<-read.csv(\"../input/july-2020-june-2021-divvy-data/202104-divvy-tripdata.csv\")\n",
    "bike0521<-read.csv(\"../input/july-2020-june-2021-divvy-data/202105-divvy-tripdata.csv\")\n",
    "bike0621<-read.csv(\"../input/july-2020-june-2021-divvy-data/202106-divvy-tripdata.csv\")\n",
    "\n"
   ]
  },
  {
   "cell_type": "markdown",
   "id": "edd520c6",
   "metadata": {
    "papermill": {
     "duration": 0.016001,
     "end_time": "2021-08-23T15:18:45.684426",
     "exception": false,
     "start_time": "2021-08-23T15:18:45.668425",
     "status": "completed"
    },
    "tags": []
   },
   "source": [
    "I review the data to see if there are any inconsistencies or errors. "
   ]
  },
  {
   "cell_type": "code",
   "execution_count": 3,
   "id": "e37a4e70",
   "metadata": {
    "execution": {
     "iopub.execute_input": "2021-08-23T15:18:45.723213Z",
     "iopub.status.busy": "2021-08-23T15:18:45.721694Z",
     "iopub.status.idle": "2021-08-23T15:18:46.126866Z",
     "shell.execute_reply": "2021-08-23T15:18:46.125133Z"
    },
    "papermill": {
     "duration": 0.42648,
     "end_time": "2021-08-23T15:18:46.127034",
     "exception": false,
     "start_time": "2021-08-23T15:18:45.700554",
     "status": "completed"
    },
    "tags": []
   },
   "outputs": [
    {
     "data": {
      "text/html": [
       "<style>\n",
       ".list-inline {list-style: none; margin:0; padding: 0}\n",
       ".list-inline>li {display: inline-block}\n",
       ".list-inline>li:not(:last-child)::after {content: \"\\00b7\"; padding: 0 .5ex}\n",
       "</style>\n",
       "<ol class=list-inline><li>'ride_id'</li><li>'rideable_type'</li><li>'started_at'</li><li>'ended_at'</li><li>'start_station_name'</li><li>'start_station_id'</li><li>'end_station_name'</li><li>'end_station_id'</li><li>'start_lat'</li><li>'start_lng'</li><li>'end_lat'</li><li>'end_lng'</li><li>'member_casual'</li></ol>\n"
      ],
      "text/latex": [
       "\\begin{enumerate*}\n",
       "\\item 'ride\\_id'\n",
       "\\item 'rideable\\_type'\n",
       "\\item 'started\\_at'\n",
       "\\item 'ended\\_at'\n",
       "\\item 'start\\_station\\_name'\n",
       "\\item 'start\\_station\\_id'\n",
       "\\item 'end\\_station\\_name'\n",
       "\\item 'end\\_station\\_id'\n",
       "\\item 'start\\_lat'\n",
       "\\item 'start\\_lng'\n",
       "\\item 'end\\_lat'\n",
       "\\item 'end\\_lng'\n",
       "\\item 'member\\_casual'\n",
       "\\end{enumerate*}\n"
      ],
      "text/markdown": [
       "1. 'ride_id'\n",
       "2. 'rideable_type'\n",
       "3. 'started_at'\n",
       "4. 'ended_at'\n",
       "5. 'start_station_name'\n",
       "6. 'start_station_id'\n",
       "7. 'end_station_name'\n",
       "8. 'end_station_id'\n",
       "9. 'start_lat'\n",
       "10. 'start_lng'\n",
       "11. 'end_lat'\n",
       "12. 'end_lng'\n",
       "13. 'member_casual'\n",
       "\n",
       "\n"
      ],
      "text/plain": [
       " [1] \"ride_id\"            \"rideable_type\"      \"started_at\"        \n",
       " [4] \"ended_at\"           \"start_station_name\" \"start_station_id\"  \n",
       " [7] \"end_station_name\"   \"end_station_id\"     \"start_lat\"         \n",
       "[10] \"start_lng\"          \"end_lat\"            \"end_lng\"           \n",
       "[13] \"member_casual\"     "
      ]
     },
     "metadata": {},
     "output_type": "display_data"
    },
    {
     "data": {
      "text/html": [
       "<style>\n",
       ".list-inline {list-style: none; margin:0; padding: 0}\n",
       ".list-inline>li {display: inline-block}\n",
       ".list-inline>li:not(:last-child)::after {content: \"\\00b7\"; padding: 0 .5ex}\n",
       "</style>\n",
       "<ol class=list-inline><li>'ride_id'</li><li>'rideable_type'</li><li>'started_at'</li><li>'ended_at'</li><li>'start_station_name'</li><li>'start_station_id'</li><li>'end_station_name'</li><li>'end_station_id'</li><li>'start_lat'</li><li>'start_lng'</li><li>'end_lat'</li><li>'end_lng'</li><li>'member_casual'</li></ol>\n"
      ],
      "text/latex": [
       "\\begin{enumerate*}\n",
       "\\item 'ride\\_id'\n",
       "\\item 'rideable\\_type'\n",
       "\\item 'started\\_at'\n",
       "\\item 'ended\\_at'\n",
       "\\item 'start\\_station\\_name'\n",
       "\\item 'start\\_station\\_id'\n",
       "\\item 'end\\_station\\_name'\n",
       "\\item 'end\\_station\\_id'\n",
       "\\item 'start\\_lat'\n",
       "\\item 'start\\_lng'\n",
       "\\item 'end\\_lat'\n",
       "\\item 'end\\_lng'\n",
       "\\item 'member\\_casual'\n",
       "\\end{enumerate*}\n"
      ],
      "text/markdown": [
       "1. 'ride_id'\n",
       "2. 'rideable_type'\n",
       "3. 'started_at'\n",
       "4. 'ended_at'\n",
       "5. 'start_station_name'\n",
       "6. 'start_station_id'\n",
       "7. 'end_station_name'\n",
       "8. 'end_station_id'\n",
       "9. 'start_lat'\n",
       "10. 'start_lng'\n",
       "11. 'end_lat'\n",
       "12. 'end_lng'\n",
       "13. 'member_casual'\n",
       "\n",
       "\n"
      ],
      "text/plain": [
       " [1] \"ride_id\"            \"rideable_type\"      \"started_at\"        \n",
       " [4] \"ended_at\"           \"start_station_name\" \"start_station_id\"  \n",
       " [7] \"end_station_name\"   \"end_station_id\"     \"start_lat\"         \n",
       "[10] \"start_lng\"          \"end_lat\"            \"end_lng\"           \n",
       "[13] \"member_casual\"     "
      ]
     },
     "metadata": {},
     "output_type": "display_data"
    },
    {
     "data": {
      "text/html": [
       "<style>\n",
       ".list-inline {list-style: none; margin:0; padding: 0}\n",
       ".list-inline>li {display: inline-block}\n",
       ".list-inline>li:not(:last-child)::after {content: \"\\00b7\"; padding: 0 .5ex}\n",
       "</style>\n",
       "<ol class=list-inline><li>'ride_id'</li><li>'rideable_type'</li><li>'started_at'</li><li>'ended_at'</li><li>'start_station_name'</li><li>'start_station_id'</li><li>'end_station_name'</li><li>'end_station_id'</li><li>'start_lat'</li><li>'start_lng'</li><li>'end_lat'</li><li>'end_lng'</li><li>'member_casual'</li></ol>\n"
      ],
      "text/latex": [
       "\\begin{enumerate*}\n",
       "\\item 'ride\\_id'\n",
       "\\item 'rideable\\_type'\n",
       "\\item 'started\\_at'\n",
       "\\item 'ended\\_at'\n",
       "\\item 'start\\_station\\_name'\n",
       "\\item 'start\\_station\\_id'\n",
       "\\item 'end\\_station\\_name'\n",
       "\\item 'end\\_station\\_id'\n",
       "\\item 'start\\_lat'\n",
       "\\item 'start\\_lng'\n",
       "\\item 'end\\_lat'\n",
       "\\item 'end\\_lng'\n",
       "\\item 'member\\_casual'\n",
       "\\end{enumerate*}\n"
      ],
      "text/markdown": [
       "1. 'ride_id'\n",
       "2. 'rideable_type'\n",
       "3. 'started_at'\n",
       "4. 'ended_at'\n",
       "5. 'start_station_name'\n",
       "6. 'start_station_id'\n",
       "7. 'end_station_name'\n",
       "8. 'end_station_id'\n",
       "9. 'start_lat'\n",
       "10. 'start_lng'\n",
       "11. 'end_lat'\n",
       "12. 'end_lng'\n",
       "13. 'member_casual'\n",
       "\n",
       "\n"
      ],
      "text/plain": [
       " [1] \"ride_id\"            \"rideable_type\"      \"started_at\"        \n",
       " [4] \"ended_at\"           \"start_station_name\" \"start_station_id\"  \n",
       " [7] \"end_station_name\"   \"end_station_id\"     \"start_lat\"         \n",
       "[10] \"start_lng\"          \"end_lat\"            \"end_lng\"           \n",
       "[13] \"member_casual\"     "
      ]
     },
     "metadata": {},
     "output_type": "display_data"
    },
    {
     "data": {
      "text/html": [
       "<style>\n",
       ".list-inline {list-style: none; margin:0; padding: 0}\n",
       ".list-inline>li {display: inline-block}\n",
       ".list-inline>li:not(:last-child)::after {content: \"\\00b7\"; padding: 0 .5ex}\n",
       "</style>\n",
       "<ol class=list-inline><li>'ride_id'</li><li>'rideable_type'</li><li>'started_at'</li><li>'ended_at'</li><li>'start_station_name'</li><li>'start_station_id'</li><li>'end_station_name'</li><li>'end_station_id'</li><li>'start_lat'</li><li>'start_lng'</li><li>'end_lat'</li><li>'end_lng'</li><li>'member_casual'</li></ol>\n"
      ],
      "text/latex": [
       "\\begin{enumerate*}\n",
       "\\item 'ride\\_id'\n",
       "\\item 'rideable\\_type'\n",
       "\\item 'started\\_at'\n",
       "\\item 'ended\\_at'\n",
       "\\item 'start\\_station\\_name'\n",
       "\\item 'start\\_station\\_id'\n",
       "\\item 'end\\_station\\_name'\n",
       "\\item 'end\\_station\\_id'\n",
       "\\item 'start\\_lat'\n",
       "\\item 'start\\_lng'\n",
       "\\item 'end\\_lat'\n",
       "\\item 'end\\_lng'\n",
       "\\item 'member\\_casual'\n",
       "\\end{enumerate*}\n"
      ],
      "text/markdown": [
       "1. 'ride_id'\n",
       "2. 'rideable_type'\n",
       "3. 'started_at'\n",
       "4. 'ended_at'\n",
       "5. 'start_station_name'\n",
       "6. 'start_station_id'\n",
       "7. 'end_station_name'\n",
       "8. 'end_station_id'\n",
       "9. 'start_lat'\n",
       "10. 'start_lng'\n",
       "11. 'end_lat'\n",
       "12. 'end_lng'\n",
       "13. 'member_casual'\n",
       "\n",
       "\n"
      ],
      "text/plain": [
       " [1] \"ride_id\"            \"rideable_type\"      \"started_at\"        \n",
       " [4] \"ended_at\"           \"start_station_name\" \"start_station_id\"  \n",
       " [7] \"end_station_name\"   \"end_station_id\"     \"start_lat\"         \n",
       "[10] \"start_lng\"          \"end_lat\"            \"end_lng\"           \n",
       "[13] \"member_casual\"     "
      ]
     },
     "metadata": {},
     "output_type": "display_data"
    },
    {
     "data": {
      "text/html": [
       "<style>\n",
       ".list-inline {list-style: none; margin:0; padding: 0}\n",
       ".list-inline>li {display: inline-block}\n",
       ".list-inline>li:not(:last-child)::after {content: \"\\00b7\"; padding: 0 .5ex}\n",
       "</style>\n",
       "<ol class=list-inline><li>'ride_id'</li><li>'rideable_type'</li><li>'started_at'</li><li>'ended_at'</li><li>'start_station_name'</li><li>'start_station_id'</li><li>'end_station_name'</li><li>'end_station_id'</li><li>'start_lat'</li><li>'start_lng'</li><li>'end_lat'</li><li>'end_lng'</li><li>'member_casual'</li></ol>\n"
      ],
      "text/latex": [
       "\\begin{enumerate*}\n",
       "\\item 'ride\\_id'\n",
       "\\item 'rideable\\_type'\n",
       "\\item 'started\\_at'\n",
       "\\item 'ended\\_at'\n",
       "\\item 'start\\_station\\_name'\n",
       "\\item 'start\\_station\\_id'\n",
       "\\item 'end\\_station\\_name'\n",
       "\\item 'end\\_station\\_id'\n",
       "\\item 'start\\_lat'\n",
       "\\item 'start\\_lng'\n",
       "\\item 'end\\_lat'\n",
       "\\item 'end\\_lng'\n",
       "\\item 'member\\_casual'\n",
       "\\end{enumerate*}\n"
      ],
      "text/markdown": [
       "1. 'ride_id'\n",
       "2. 'rideable_type'\n",
       "3. 'started_at'\n",
       "4. 'ended_at'\n",
       "5. 'start_station_name'\n",
       "6. 'start_station_id'\n",
       "7. 'end_station_name'\n",
       "8. 'end_station_id'\n",
       "9. 'start_lat'\n",
       "10. 'start_lng'\n",
       "11. 'end_lat'\n",
       "12. 'end_lng'\n",
       "13. 'member_casual'\n",
       "\n",
       "\n"
      ],
      "text/plain": [
       " [1] \"ride_id\"            \"rideable_type\"      \"started_at\"        \n",
       " [4] \"ended_at\"           \"start_station_name\" \"start_station_id\"  \n",
       " [7] \"end_station_name\"   \"end_station_id\"     \"start_lat\"         \n",
       "[10] \"start_lng\"          \"end_lat\"            \"end_lng\"           \n",
       "[13] \"member_casual\"     "
      ]
     },
     "metadata": {},
     "output_type": "display_data"
    },
    {
     "data": {
      "text/html": [
       "<style>\n",
       ".list-inline {list-style: none; margin:0; padding: 0}\n",
       ".list-inline>li {display: inline-block}\n",
       ".list-inline>li:not(:last-child)::after {content: \"\\00b7\"; padding: 0 .5ex}\n",
       "</style>\n",
       "<ol class=list-inline><li>'ride_id'</li><li>'rideable_type'</li><li>'started_at'</li><li>'ended_at'</li><li>'start_station_name'</li><li>'start_station_id'</li><li>'end_station_name'</li><li>'end_station_id'</li><li>'start_lat'</li><li>'start_lng'</li><li>'end_lat'</li><li>'end_lng'</li><li>'member_casual'</li></ol>\n"
      ],
      "text/latex": [
       "\\begin{enumerate*}\n",
       "\\item 'ride\\_id'\n",
       "\\item 'rideable\\_type'\n",
       "\\item 'started\\_at'\n",
       "\\item 'ended\\_at'\n",
       "\\item 'start\\_station\\_name'\n",
       "\\item 'start\\_station\\_id'\n",
       "\\item 'end\\_station\\_name'\n",
       "\\item 'end\\_station\\_id'\n",
       "\\item 'start\\_lat'\n",
       "\\item 'start\\_lng'\n",
       "\\item 'end\\_lat'\n",
       "\\item 'end\\_lng'\n",
       "\\item 'member\\_casual'\n",
       "\\end{enumerate*}\n"
      ],
      "text/markdown": [
       "1. 'ride_id'\n",
       "2. 'rideable_type'\n",
       "3. 'started_at'\n",
       "4. 'ended_at'\n",
       "5. 'start_station_name'\n",
       "6. 'start_station_id'\n",
       "7. 'end_station_name'\n",
       "8. 'end_station_id'\n",
       "9. 'start_lat'\n",
       "10. 'start_lng'\n",
       "11. 'end_lat'\n",
       "12. 'end_lng'\n",
       "13. 'member_casual'\n",
       "\n",
       "\n"
      ],
      "text/plain": [
       " [1] \"ride_id\"            \"rideable_type\"      \"started_at\"        \n",
       " [4] \"ended_at\"           \"start_station_name\" \"start_station_id\"  \n",
       " [7] \"end_station_name\"   \"end_station_id\"     \"start_lat\"         \n",
       "[10] \"start_lng\"          \"end_lat\"            \"end_lng\"           \n",
       "[13] \"member_casual\"     "
      ]
     },
     "metadata": {},
     "output_type": "display_data"
    },
    {
     "data": {
      "text/html": [
       "<style>\n",
       ".list-inline {list-style: none; margin:0; padding: 0}\n",
       ".list-inline>li {display: inline-block}\n",
       ".list-inline>li:not(:last-child)::after {content: \"\\00b7\"; padding: 0 .5ex}\n",
       "</style>\n",
       "<ol class=list-inline><li>'ride_id'</li><li>'rideable_type'</li><li>'started_at'</li><li>'ended_at'</li><li>'start_station_name'</li><li>'start_station_id'</li><li>'end_station_name'</li><li>'end_station_id'</li><li>'start_lat'</li><li>'start_lng'</li><li>'end_lat'</li><li>'end_lng'</li><li>'member_casual'</li></ol>\n"
      ],
      "text/latex": [
       "\\begin{enumerate*}\n",
       "\\item 'ride\\_id'\n",
       "\\item 'rideable\\_type'\n",
       "\\item 'started\\_at'\n",
       "\\item 'ended\\_at'\n",
       "\\item 'start\\_station\\_name'\n",
       "\\item 'start\\_station\\_id'\n",
       "\\item 'end\\_station\\_name'\n",
       "\\item 'end\\_station\\_id'\n",
       "\\item 'start\\_lat'\n",
       "\\item 'start\\_lng'\n",
       "\\item 'end\\_lat'\n",
       "\\item 'end\\_lng'\n",
       "\\item 'member\\_casual'\n",
       "\\end{enumerate*}\n"
      ],
      "text/markdown": [
       "1. 'ride_id'\n",
       "2. 'rideable_type'\n",
       "3. 'started_at'\n",
       "4. 'ended_at'\n",
       "5. 'start_station_name'\n",
       "6. 'start_station_id'\n",
       "7. 'end_station_name'\n",
       "8. 'end_station_id'\n",
       "9. 'start_lat'\n",
       "10. 'start_lng'\n",
       "11. 'end_lat'\n",
       "12. 'end_lng'\n",
       "13. 'member_casual'\n",
       "\n",
       "\n"
      ],
      "text/plain": [
       " [1] \"ride_id\"            \"rideable_type\"      \"started_at\"        \n",
       " [4] \"ended_at\"           \"start_station_name\" \"start_station_id\"  \n",
       " [7] \"end_station_name\"   \"end_station_id\"     \"start_lat\"         \n",
       "[10] \"start_lng\"          \"end_lat\"            \"end_lng\"           \n",
       "[13] \"member_casual\"     "
      ]
     },
     "metadata": {},
     "output_type": "display_data"
    },
    {
     "data": {
      "text/html": [
       "<style>\n",
       ".list-inline {list-style: none; margin:0; padding: 0}\n",
       ".list-inline>li {display: inline-block}\n",
       ".list-inline>li:not(:last-child)::after {content: \"\\00b7\"; padding: 0 .5ex}\n",
       "</style>\n",
       "<ol class=list-inline><li>'ride_id'</li><li>'rideable_type'</li><li>'started_at'</li><li>'ended_at'</li><li>'start_station_name'</li><li>'start_station_id'</li><li>'end_station_name'</li><li>'end_station_id'</li><li>'start_lat'</li><li>'start_lng'</li><li>'end_lat'</li><li>'end_lng'</li><li>'member_casual'</li></ol>\n"
      ],
      "text/latex": [
       "\\begin{enumerate*}\n",
       "\\item 'ride\\_id'\n",
       "\\item 'rideable\\_type'\n",
       "\\item 'started\\_at'\n",
       "\\item 'ended\\_at'\n",
       "\\item 'start\\_station\\_name'\n",
       "\\item 'start\\_station\\_id'\n",
       "\\item 'end\\_station\\_name'\n",
       "\\item 'end\\_station\\_id'\n",
       "\\item 'start\\_lat'\n",
       "\\item 'start\\_lng'\n",
       "\\item 'end\\_lat'\n",
       "\\item 'end\\_lng'\n",
       "\\item 'member\\_casual'\n",
       "\\end{enumerate*}\n"
      ],
      "text/markdown": [
       "1. 'ride_id'\n",
       "2. 'rideable_type'\n",
       "3. 'started_at'\n",
       "4. 'ended_at'\n",
       "5. 'start_station_name'\n",
       "6. 'start_station_id'\n",
       "7. 'end_station_name'\n",
       "8. 'end_station_id'\n",
       "9. 'start_lat'\n",
       "10. 'start_lng'\n",
       "11. 'end_lat'\n",
       "12. 'end_lng'\n",
       "13. 'member_casual'\n",
       "\n",
       "\n"
      ],
      "text/plain": [
       " [1] \"ride_id\"            \"rideable_type\"      \"started_at\"        \n",
       " [4] \"ended_at\"           \"start_station_name\" \"start_station_id\"  \n",
       " [7] \"end_station_name\"   \"end_station_id\"     \"start_lat\"         \n",
       "[10] \"start_lng\"          \"end_lat\"            \"end_lng\"           \n",
       "[13] \"member_casual\"     "
      ]
     },
     "metadata": {},
     "output_type": "display_data"
    },
    {
     "data": {
      "text/html": [
       "<style>\n",
       ".list-inline {list-style: none; margin:0; padding: 0}\n",
       ".list-inline>li {display: inline-block}\n",
       ".list-inline>li:not(:last-child)::after {content: \"\\00b7\"; padding: 0 .5ex}\n",
       "</style>\n",
       "<ol class=list-inline><li>'ride_id'</li><li>'rideable_type'</li><li>'started_at'</li><li>'ended_at'</li><li>'start_station_name'</li><li>'start_station_id'</li><li>'end_station_name'</li><li>'end_station_id'</li><li>'start_lat'</li><li>'start_lng'</li><li>'end_lat'</li><li>'end_lng'</li><li>'member_casual'</li></ol>\n"
      ],
      "text/latex": [
       "\\begin{enumerate*}\n",
       "\\item 'ride\\_id'\n",
       "\\item 'rideable\\_type'\n",
       "\\item 'started\\_at'\n",
       "\\item 'ended\\_at'\n",
       "\\item 'start\\_station\\_name'\n",
       "\\item 'start\\_station\\_id'\n",
       "\\item 'end\\_station\\_name'\n",
       "\\item 'end\\_station\\_id'\n",
       "\\item 'start\\_lat'\n",
       "\\item 'start\\_lng'\n",
       "\\item 'end\\_lat'\n",
       "\\item 'end\\_lng'\n",
       "\\item 'member\\_casual'\n",
       "\\end{enumerate*}\n"
      ],
      "text/markdown": [
       "1. 'ride_id'\n",
       "2. 'rideable_type'\n",
       "3. 'started_at'\n",
       "4. 'ended_at'\n",
       "5. 'start_station_name'\n",
       "6. 'start_station_id'\n",
       "7. 'end_station_name'\n",
       "8. 'end_station_id'\n",
       "9. 'start_lat'\n",
       "10. 'start_lng'\n",
       "11. 'end_lat'\n",
       "12. 'end_lng'\n",
       "13. 'member_casual'\n",
       "\n",
       "\n"
      ],
      "text/plain": [
       " [1] \"ride_id\"            \"rideable_type\"      \"started_at\"        \n",
       " [4] \"ended_at\"           \"start_station_name\" \"start_station_id\"  \n",
       " [7] \"end_station_name\"   \"end_station_id\"     \"start_lat\"         \n",
       "[10] \"start_lng\"          \"end_lat\"            \"end_lng\"           \n",
       "[13] \"member_casual\"     "
      ]
     },
     "metadata": {},
     "output_type": "display_data"
    },
    {
     "data": {
      "text/html": [
       "<style>\n",
       ".list-inline {list-style: none; margin:0; padding: 0}\n",
       ".list-inline>li {display: inline-block}\n",
       ".list-inline>li:not(:last-child)::after {content: \"\\00b7\"; padding: 0 .5ex}\n",
       "</style>\n",
       "<ol class=list-inline><li>'ride_id'</li><li>'rideable_type'</li><li>'started_at'</li><li>'ended_at'</li><li>'start_station_name'</li><li>'start_station_id'</li><li>'end_station_name'</li><li>'end_station_id'</li><li>'start_lat'</li><li>'start_lng'</li><li>'end_lat'</li><li>'end_lng'</li><li>'member_casual'</li></ol>\n"
      ],
      "text/latex": [
       "\\begin{enumerate*}\n",
       "\\item 'ride\\_id'\n",
       "\\item 'rideable\\_type'\n",
       "\\item 'started\\_at'\n",
       "\\item 'ended\\_at'\n",
       "\\item 'start\\_station\\_name'\n",
       "\\item 'start\\_station\\_id'\n",
       "\\item 'end\\_station\\_name'\n",
       "\\item 'end\\_station\\_id'\n",
       "\\item 'start\\_lat'\n",
       "\\item 'start\\_lng'\n",
       "\\item 'end\\_lat'\n",
       "\\item 'end\\_lng'\n",
       "\\item 'member\\_casual'\n",
       "\\end{enumerate*}\n"
      ],
      "text/markdown": [
       "1. 'ride_id'\n",
       "2. 'rideable_type'\n",
       "3. 'started_at'\n",
       "4. 'ended_at'\n",
       "5. 'start_station_name'\n",
       "6. 'start_station_id'\n",
       "7. 'end_station_name'\n",
       "8. 'end_station_id'\n",
       "9. 'start_lat'\n",
       "10. 'start_lng'\n",
       "11. 'end_lat'\n",
       "12. 'end_lng'\n",
       "13. 'member_casual'\n",
       "\n",
       "\n"
      ],
      "text/plain": [
       " [1] \"ride_id\"            \"rideable_type\"      \"started_at\"        \n",
       " [4] \"ended_at\"           \"start_station_name\" \"start_station_id\"  \n",
       " [7] \"end_station_name\"   \"end_station_id\"     \"start_lat\"         \n",
       "[10] \"start_lng\"          \"end_lat\"            \"end_lng\"           \n",
       "[13] \"member_casual\"     "
      ]
     },
     "metadata": {},
     "output_type": "display_data"
    },
    {
     "data": {
      "text/html": [
       "<style>\n",
       ".list-inline {list-style: none; margin:0; padding: 0}\n",
       ".list-inline>li {display: inline-block}\n",
       ".list-inline>li:not(:last-child)::after {content: \"\\00b7\"; padding: 0 .5ex}\n",
       "</style>\n",
       "<ol class=list-inline><li>'ride_id'</li><li>'rideable_type'</li><li>'started_at'</li><li>'ended_at'</li><li>'start_station_name'</li><li>'start_station_id'</li><li>'end_station_name'</li><li>'end_station_id'</li><li>'start_lat'</li><li>'start_lng'</li><li>'end_lat'</li><li>'end_lng'</li><li>'member_casual'</li></ol>\n"
      ],
      "text/latex": [
       "\\begin{enumerate*}\n",
       "\\item 'ride\\_id'\n",
       "\\item 'rideable\\_type'\n",
       "\\item 'started\\_at'\n",
       "\\item 'ended\\_at'\n",
       "\\item 'start\\_station\\_name'\n",
       "\\item 'start\\_station\\_id'\n",
       "\\item 'end\\_station\\_name'\n",
       "\\item 'end\\_station\\_id'\n",
       "\\item 'start\\_lat'\n",
       "\\item 'start\\_lng'\n",
       "\\item 'end\\_lat'\n",
       "\\item 'end\\_lng'\n",
       "\\item 'member\\_casual'\n",
       "\\end{enumerate*}\n"
      ],
      "text/markdown": [
       "1. 'ride_id'\n",
       "2. 'rideable_type'\n",
       "3. 'started_at'\n",
       "4. 'ended_at'\n",
       "5. 'start_station_name'\n",
       "6. 'start_station_id'\n",
       "7. 'end_station_name'\n",
       "8. 'end_station_id'\n",
       "9. 'start_lat'\n",
       "10. 'start_lng'\n",
       "11. 'end_lat'\n",
       "12. 'end_lng'\n",
       "13. 'member_casual'\n",
       "\n",
       "\n"
      ],
      "text/plain": [
       " [1] \"ride_id\"            \"rideable_type\"      \"started_at\"        \n",
       " [4] \"ended_at\"           \"start_station_name\" \"start_station_id\"  \n",
       " [7] \"end_station_name\"   \"end_station_id\"     \"start_lat\"         \n",
       "[10] \"start_lng\"          \"end_lat\"            \"end_lng\"           \n",
       "[13] \"member_casual\"     "
      ]
     },
     "metadata": {},
     "output_type": "display_data"
    },
    {
     "data": {
      "text/html": [
       "<style>\n",
       ".list-inline {list-style: none; margin:0; padding: 0}\n",
       ".list-inline>li {display: inline-block}\n",
       ".list-inline>li:not(:last-child)::after {content: \"\\00b7\"; padding: 0 .5ex}\n",
       "</style>\n",
       "<ol class=list-inline><li>'ride_id'</li><li>'rideable_type'</li><li>'started_at'</li><li>'ended_at'</li><li>'start_station_name'</li><li>'start_station_id'</li><li>'end_station_name'</li><li>'end_station_id'</li><li>'start_lat'</li><li>'start_lng'</li><li>'end_lat'</li><li>'end_lng'</li><li>'member_casual'</li></ol>\n"
      ],
      "text/latex": [
       "\\begin{enumerate*}\n",
       "\\item 'ride\\_id'\n",
       "\\item 'rideable\\_type'\n",
       "\\item 'started\\_at'\n",
       "\\item 'ended\\_at'\n",
       "\\item 'start\\_station\\_name'\n",
       "\\item 'start\\_station\\_id'\n",
       "\\item 'end\\_station\\_name'\n",
       "\\item 'end\\_station\\_id'\n",
       "\\item 'start\\_lat'\n",
       "\\item 'start\\_lng'\n",
       "\\item 'end\\_lat'\n",
       "\\item 'end\\_lng'\n",
       "\\item 'member\\_casual'\n",
       "\\end{enumerate*}\n"
      ],
      "text/markdown": [
       "1. 'ride_id'\n",
       "2. 'rideable_type'\n",
       "3. 'started_at'\n",
       "4. 'ended_at'\n",
       "5. 'start_station_name'\n",
       "6. 'start_station_id'\n",
       "7. 'end_station_name'\n",
       "8. 'end_station_id'\n",
       "9. 'start_lat'\n",
       "10. 'start_lng'\n",
       "11. 'end_lat'\n",
       "12. 'end_lng'\n",
       "13. 'member_casual'\n",
       "\n",
       "\n"
      ],
      "text/plain": [
       " [1] \"ride_id\"            \"rideable_type\"      \"started_at\"        \n",
       " [4] \"ended_at\"           \"start_station_name\" \"start_station_id\"  \n",
       " [7] \"end_station_name\"   \"end_station_id\"     \"start_lat\"         \n",
       "[10] \"start_lng\"          \"end_lat\"            \"end_lng\"           \n",
       "[13] \"member_casual\"     "
      ]
     },
     "metadata": {},
     "output_type": "display_data"
    },
    {
     "name": "stdout",
     "output_type": "stream",
     "text": [
      "'data.frame':\t551480 obs. of  13 variables:\n",
      " $ ride_id           : chr  \"762198876D69004D\" \"BEC9C9FBA0D4CF1B\" \"D2FD8EA432C77EC1\" \"54AE594E20B35881\" ...\n",
      " $ rideable_type     : chr  \"docked_bike\" \"docked_bike\" \"docked_bike\" \"docked_bike\" ...\n",
      " $ started_at        : chr  \"2020-07-09 15:22:02\" \"2020-07-24 23:56:30\" \"2020-07-08 19:49:07\" \"2020-07-17 19:06:42\" ...\n",
      " $ ended_at          : chr  \"2020-07-09 15:25:52\" \"2020-07-25 00:20:17\" \"2020-07-08 19:56:22\" \"2020-07-17 19:27:38\" ...\n",
      " $ start_station_name: chr  \"Ritchie Ct & Banks St\" \"Halsted St & Roscoe St\" \"Lake Shore Dr & Diversey Pkwy\" \"LaSalle St & Illinois St\" ...\n",
      " $ start_station_id  : int  180 299 329 181 268 635 113 211 176 31 ...\n",
      " $ end_station_name  : chr  \"Wells St & Evergreen Ave\" \"Broadway & Ridge Ave\" \"Clark St & Wellington Ave\" \"Clark St & Armitage Ave\" ...\n",
      " $ end_station_id    : int  291 461 156 94 301 289 140 31 191 142 ...\n",
      " $ start_lat         : num  41.9 41.9 41.9 41.9 41.9 ...\n",
      " $ start_lng         : num  -87.6 -87.6 -87.6 -87.6 -87.6 ...\n",
      " $ end_lat           : num  41.9 42 41.9 41.9 41.9 ...\n",
      " $ end_lng           : num  -87.6 -87.7 -87.6 -87.6 -87.6 ...\n",
      " $ member_casual     : chr  \"member\" \"member\" \"casual\" \"casual\" ...\n",
      "'data.frame':\t622361 obs. of  13 variables:\n",
      " $ ride_id           : chr  \"322BD23D287743ED\" \"2A3AEF1AB9054D8B\" \"67DC1D133E8B5816\" \"C79FBBD412E578A7\" ...\n",
      " $ rideable_type     : chr  \"docked_bike\" \"electric_bike\" \"electric_bike\" \"electric_bike\" ...\n",
      " $ started_at        : chr  \"2020-08-20 18:08:14\" \"2020-08-27 18:46:04\" \"2020-08-26 19:44:14\" \"2020-08-27 12:05:41\" ...\n",
      " $ ended_at          : chr  \"2020-08-20 18:17:51\" \"2020-08-27 19:54:51\" \"2020-08-26 21:53:07\" \"2020-08-27 12:53:45\" ...\n",
      " $ start_station_name: chr  \"Lake Shore Dr & Diversey Pkwy\" \"Michigan Ave & 14th St\" \"Columbus Dr & Randolph St\" \"Daley Center Plaza\" ...\n",
      " $ start_station_id  : int  329 168 195 81 658 658 196 67 153 177 ...\n",
      " $ end_station_name  : chr  \"Clark St & Lincoln Ave\" \"Michigan Ave & 14th St\" \"State St & Randolph St\" \"State St & Kinzie St\" ...\n",
      " $ end_station_id    : int  141 168 44 47 658 658 49 229 225 305 ...\n",
      " $ start_lat         : num  41.9 41.9 41.9 41.9 41.9 ...\n",
      " $ start_lng         : num  -87.6 -87.6 -87.6 -87.6 -87.7 ...\n",
      " $ end_lat           : num  41.9 41.9 41.9 41.9 41.9 ...\n",
      " $ end_lng           : num  -87.6 -87.6 -87.6 -87.6 -87.7 ...\n",
      " $ member_casual     : chr  \"member\" \"casual\" \"casual\" \"casual\" ...\n",
      "'data.frame':\t532958 obs. of  13 variables:\n",
      " $ ride_id           : chr  \"2B22BD5F95FB2629\" \"A7FB70B4AFC6CAF2\" \"86057FA01BAC778E\" \"57F6DC9A153DB98C\" ...\n",
      " $ rideable_type     : chr  \"electric_bike\" \"electric_bike\" \"electric_bike\" \"electric_bike\" ...\n",
      " $ started_at        : chr  \"2020-09-17 14:27:11\" \"2020-09-17 15:07:31\" \"2020-09-17 15:09:04\" \"2020-09-17 18:10:46\" ...\n",
      " $ ended_at          : chr  \"2020-09-17 14:44:24\" \"2020-09-17 15:07:45\" \"2020-09-17 15:09:35\" \"2020-09-17 18:35:49\" ...\n",
      " $ start_station_name: chr  \"Michigan Ave & Lake St\" \"W Oakdale Ave & N Broadway\" \"W Oakdale Ave & N Broadway\" \"Ashland Ave & Belle Plaine Ave\" ...\n",
      " $ start_station_id  : int  52 NA NA 246 24 94 291 NA NA NA ...\n",
      " $ end_station_name  : chr  \"Green St & Randolph St\" \"W Oakdale Ave & N Broadway\" \"W Oakdale Ave & N Broadway\" \"Montrose Harbor\" ...\n",
      " $ end_station_id    : int  112 NA NA 249 24 NA 256 NA NA NA ...\n",
      " $ start_lat         : num  41.9 41.9 41.9 42 41.9 ...\n",
      " $ start_lng         : num  -87.6 -87.6 -87.6 -87.7 -87.6 ...\n",
      " $ end_lat           : num  41.9 41.9 41.9 42 41.9 ...\n",
      " $ end_lng           : num  -87.6 -87.6 -87.6 -87.6 -87.6 ...\n",
      " $ member_casual     : chr  \"casual\" \"casual\" \"casual\" \"casual\" ...\n",
      "'data.frame':\t388653 obs. of  13 variables:\n",
      " $ ride_id           : chr  \"ACB6B40CF5B9044C\" \"DF450C72FD109C01\" \"B6396B54A15AC0DF\" \"44A4AEE261B9E854\" ...\n",
      " $ rideable_type     : chr  \"electric_bike\" \"electric_bike\" \"electric_bike\" \"electric_bike\" ...\n",
      " $ started_at        : chr  \"2020-10-31 19:39:43\" \"2020-10-31 23:50:08\" \"2020-10-31 23:00:01\" \"2020-10-31 22:16:43\" ...\n",
      " $ ended_at          : chr  \"2020-10-31 19:57:12\" \"2020-11-01 00:04:16\" \"2020-10-31 23:08:22\" \"2020-10-31 22:19:35\" ...\n",
      " $ start_station_name: chr  \"Lakeview Ave & Fullerton Pkwy\" \"Southport Ave & Waveland Ave\" \"Stony Island Ave & 67th St\" \"Clark St & Grace St\" ...\n",
      " $ start_station_id  : int  313 227 102 165 190 359 313 125 NA 174 ...\n",
      " $ end_station_name  : chr  \"Rush St & Hubbard St\" \"Kedzie Ave & Milwaukee Ave\" \"University Ave & 57th St\" \"Broadway & Sheridan Rd\" ...\n",
      " $ end_station_id    : int  125 260 423 256 185 53 125 313 199 635 ...\n",
      " $ start_lat         : num  41.9 41.9 41.8 42 41.9 ...\n",
      " $ start_lng         : num  -87.6 -87.7 -87.6 -87.7 -87.7 ...\n",
      " $ end_lat           : num  41.9 41.9 41.8 42 41.9 ...\n",
      " $ end_lng           : num  -87.6 -87.7 -87.6 -87.7 -87.7 ...\n",
      " $ member_casual     : chr  \"casual\" \"casual\" \"casual\" \"casual\" ...\n",
      "'data.frame':\t131573 obs. of  13 variables:\n",
      " $ ride_id           : chr  \"70B6A9A437D4C30D\" \"158A465D4E74C54A\" \"5262016E0F1F2F9A\" \"BE119628E44F871E\" ...\n",
      " $ rideable_type     : chr  \"classic_bike\" \"electric_bike\" \"electric_bike\" \"electric_bike\" ...\n",
      " $ started_at        : chr  \"2020-12-27 12:44:29\" \"2020-12-18 17:37:15\" \"2020-12-15 15:04:33\" \"2020-12-15 15:54:18\" ...\n",
      " $ ended_at          : chr  \"2020-12-27 12:55:06\" \"2020-12-18 17:44:19\" \"2020-12-15 15:11:28\" \"2020-12-15 16:00:11\" ...\n",
      " $ start_station_name: chr  \"Aberdeen St & Jackson Blvd\" \"\" \"\" \"\" ...\n",
      " $ start_station_id  : chr  \"13157\" \"\" \"\" \"\" ...\n",
      " $ end_station_name  : chr  \"Desplaines St & Kinzie St\" \"\" \"\" \"\" ...\n",
      " $ end_station_id    : chr  \"TA1306000003\" \"\" \"\" \"\" ...\n",
      " $ start_lat         : num  41.9 41.9 41.9 41.9 41.8 ...\n",
      " $ start_lng         : num  -87.7 -87.7 -87.7 -87.7 -87.6 ...\n",
      " $ end_lat           : num  41.9 41.9 41.9 41.9 41.8 ...\n",
      " $ end_lng           : num  -87.6 -87.7 -87.7 -87.7 -87.6 ...\n",
      " $ member_casual     : chr  \"member\" \"member\" \"member\" \"member\" ...\n",
      "'data.frame':\t131573 obs. of  13 variables:\n",
      " $ ride_id           : chr  \"70B6A9A437D4C30D\" \"158A465D4E74C54A\" \"5262016E0F1F2F9A\" \"BE119628E44F871E\" ...\n",
      " $ rideable_type     : chr  \"classic_bike\" \"electric_bike\" \"electric_bike\" \"electric_bike\" ...\n",
      " $ started_at        : chr  \"2020-12-27 12:44:29\" \"2020-12-18 17:37:15\" \"2020-12-15 15:04:33\" \"2020-12-15 15:54:18\" ...\n",
      " $ ended_at          : chr  \"2020-12-27 12:55:06\" \"2020-12-18 17:44:19\" \"2020-12-15 15:11:28\" \"2020-12-15 16:00:11\" ...\n",
      " $ start_station_name: chr  \"Aberdeen St & Jackson Blvd\" \"\" \"\" \"\" ...\n",
      " $ start_station_id  : chr  \"13157\" \"\" \"\" \"\" ...\n",
      " $ end_station_name  : chr  \"Desplaines St & Kinzie St\" \"\" \"\" \"\" ...\n",
      " $ end_station_id    : chr  \"TA1306000003\" \"\" \"\" \"\" ...\n",
      " $ start_lat         : num  41.9 41.9 41.9 41.9 41.8 ...\n",
      " $ start_lng         : num  -87.7 -87.7 -87.7 -87.7 -87.6 ...\n",
      " $ end_lat           : num  41.9 41.9 41.9 41.9 41.8 ...\n",
      " $ end_lng           : num  -87.6 -87.7 -87.7 -87.7 -87.6 ...\n",
      " $ member_casual     : chr  \"member\" \"member\" \"member\" \"member\" ...\n",
      "'data.frame':\t96834 obs. of  13 variables:\n",
      " $ ride_id           : chr  \"E19E6F1B8D4C42ED\" \"DC88F20C2C55F27F\" \"EC45C94683FE3F27\" \"4FA453A75AE377DB\" ...\n",
      " $ rideable_type     : chr  \"electric_bike\" \"electric_bike\" \"electric_bike\" \"electric_bike\" ...\n",
      " $ started_at        : chr  \"2021-01-23 16:14:19\" \"2021-01-27 18:43:08\" \"2021-01-21 22:35:54\" \"2021-01-07 13:31:13\" ...\n",
      " $ ended_at          : chr  \"2021-01-23 16:24:44\" \"2021-01-27 18:47:12\" \"2021-01-21 22:37:14\" \"2021-01-07 13:42:55\" ...\n",
      " $ start_station_name: chr  \"California Ave & Cortez St\" \"California Ave & Cortez St\" \"California Ave & Cortez St\" \"California Ave & Cortez St\" ...\n",
      " $ start_station_id  : chr  \"17660\" \"17660\" \"17660\" \"17660\" ...\n",
      " $ end_station_name  : chr  \"\" \"\" \"\" \"\" ...\n",
      " $ end_station_id    : chr  \"\" \"\" \"\" \"\" ...\n",
      " $ start_lat         : num  41.9 41.9 41.9 41.9 41.9 ...\n",
      " $ start_lng         : num  -87.7 -87.7 -87.7 -87.7 -87.7 ...\n",
      " $ end_lat           : num  41.9 41.9 41.9 41.9 41.9 ...\n",
      " $ end_lng           : num  -87.7 -87.7 -87.7 -87.7 -87.7 ...\n",
      " $ member_casual     : chr  \"member\" \"member\" \"member\" \"member\" ...\n",
      "'data.frame':\t49622 obs. of  13 variables:\n",
      " $ ride_id           : chr  \"89E7AA6C29227EFF\" \"0FEFDE2603568365\" \"E6159D746B2DBB91\" \"B32D3199F1C2E75B\" ...\n",
      " $ rideable_type     : chr  \"classic_bike\" \"classic_bike\" \"electric_bike\" \"classic_bike\" ...\n",
      " $ started_at        : chr  \"2021-02-12 16:14:56\" \"2021-02-14 17:52:38\" \"2021-02-09 19:10:18\" \"2021-02-02 17:49:41\" ...\n",
      " $ ended_at          : chr  \"2021-02-12 16:21:43\" \"2021-02-14 18:12:09\" \"2021-02-09 19:19:10\" \"2021-02-02 17:54:06\" ...\n",
      " $ start_station_name: chr  \"Glenwood Ave & Touhy Ave\" \"Glenwood Ave & Touhy Ave\" \"Clark St & Lake St\" \"Wood St & Chicago Ave\" ...\n",
      " $ start_station_id  : chr  \"525\" \"525\" \"KA1503000012\" \"637\" ...\n",
      " $ end_station_name  : chr  \"Sheridan Rd & Columbia Ave\" \"Bosworth Ave & Howard St\" \"State St & Randolph St\" \"Honore St & Division St\" ...\n",
      " $ end_station_id    : chr  \"660\" \"16806\" \"TA1305000029\" \"TA1305000034\" ...\n",
      " $ start_lat         : num  42 42 41.9 41.9 41.8 ...\n",
      " $ start_lng         : num  -87.7 -87.7 -87.6 -87.7 -87.6 ...\n",
      " $ end_lat           : num  42 42 41.9 41.9 41.8 ...\n",
      " $ end_lng           : num  -87.7 -87.7 -87.6 -87.7 -87.6 ...\n",
      " $ member_casual     : chr  \"member\" \"casual\" \"member\" \"member\" ...\n",
      "'data.frame':\t228496 obs. of  13 variables:\n",
      " $ ride_id           : chr  \"CFA86D4455AA1030\" \"30D9DC61227D1AF3\" \"846D87A15682A284\" \"994D05AA75A168F2\" ...\n",
      " $ rideable_type     : chr  \"classic_bike\" \"classic_bike\" \"classic_bike\" \"classic_bike\" ...\n",
      " $ started_at        : chr  \"2021-03-16 08:32:30\" \"2021-03-28 01:26:28\" \"2021-03-11 21:17:29\" \"2021-03-11 13:26:42\" ...\n",
      " $ ended_at          : chr  \"2021-03-16 08:36:34\" \"2021-03-28 01:36:55\" \"2021-03-11 21:33:53\" \"2021-03-11 13:55:41\" ...\n",
      " $ start_station_name: chr  \"Humboldt Blvd & Armitage Ave\" \"Humboldt Blvd & Armitage Ave\" \"Shields Ave & 28th Pl\" \"Winthrop Ave & Lawrence Ave\" ...\n",
      " $ start_station_id  : chr  \"15651\" \"15651\" \"15443\" \"TA1308000021\" ...\n",
      " $ end_station_name  : chr  \"Stave St & Armitage Ave\" \"Central Park Ave & Bloomingdale Ave\" \"Halsted St & 35th St\" \"Broadway & Sheridan Rd\" ...\n",
      " $ end_station_id    : chr  \"13266\" \"18017\" \"TA1308000043\" \"13323\" ...\n",
      " $ start_lat         : num  41.9 41.9 41.8 42 42 ...\n",
      " $ start_lng         : num  -87.7 -87.7 -87.6 -87.7 -87.7 ...\n",
      " $ end_lat           : num  41.9 41.9 41.8 42 42.1 ...\n",
      " $ end_lng           : num  -87.7 -87.7 -87.6 -87.6 -87.7 ...\n",
      " $ member_casual     : chr  \"casual\" \"casual\" \"casual\" \"casual\" ...\n",
      "'data.frame':\t337230 obs. of  13 variables:\n",
      " $ ride_id           : chr  \"6C992BD37A98A63F\" \"1E0145613A209000\" \"E498E15508A80BAD\" \"1887262AD101C604\" ...\n",
      " $ rideable_type     : chr  \"classic_bike\" \"docked_bike\" \"docked_bike\" \"classic_bike\" ...\n",
      " $ started_at        : chr  \"2021-04-12 18:25:36\" \"2021-04-27 17:27:11\" \"2021-04-03 12:42:45\" \"2021-04-17 09:17:42\" ...\n",
      " $ ended_at          : chr  \"2021-04-12 18:56:55\" \"2021-04-27 18:31:29\" \"2021-04-07 11:40:24\" \"2021-04-17 09:42:48\" ...\n",
      " $ start_station_name: chr  \"State St & Pearson St\" \"Dorchester Ave & 49th St\" \"Loomis Blvd & 84th St\" \"Honore St & Division St\" ...\n",
      " $ start_station_id  : chr  \"TA1307000061\" \"KA1503000069\" \"20121\" \"TA1305000034\" ...\n",
      " $ end_station_name  : chr  \"Southport Ave & Waveland Ave\" \"Dorchester Ave & 49th St\" \"Loomis Blvd & 84th St\" \"Southport Ave & Waveland Ave\" ...\n",
      " $ end_station_id    : chr  \"13235\" \"KA1503000069\" \"20121\" \"13235\" ...\n",
      " $ start_lat         : num  41.9 41.8 41.7 41.9 41.7 ...\n",
      " $ start_lng         : num  -87.6 -87.6 -87.7 -87.7 -87.7 ...\n",
      " $ end_lat           : num  41.9 41.8 41.7 41.9 41.7 ...\n",
      " $ end_lng           : num  -87.7 -87.6 -87.7 -87.7 -87.7 ...\n",
      " $ member_casual     : chr  \"member\" \"casual\" \"casual\" \"member\" ...\n",
      "'data.frame':\t531633 obs. of  13 variables:\n",
      " $ ride_id           : chr  \"C809ED75D6160B2A\" \"DD59FDCE0ACACAF3\" \"0AB83CB88C43EFC2\" \"7881AC6D39110C60\" ...\n",
      " $ rideable_type     : chr  \"electric_bike\" \"electric_bike\" \"electric_bike\" \"electric_bike\" ...\n",
      " $ started_at        : chr  \"2021-05-30 11:58:15\" \"2021-05-30 11:29:14\" \"2021-05-30 14:24:01\" \"2021-05-30 14:25:51\" ...\n",
      " $ ended_at          : chr  \"2021-05-30 12:10:39\" \"2021-05-30 12:14:09\" \"2021-05-30 14:25:13\" \"2021-05-30 14:41:04\" ...\n",
      " $ start_station_name: chr  \"\" \"\" \"\" \"\" ...\n",
      " $ start_station_id  : chr  \"\" \"\" \"\" \"\" ...\n",
      " $ end_station_name  : chr  \"\" \"\" \"\" \"\" ...\n",
      " $ end_station_id    : chr  \"\" \"\" \"\" \"\" ...\n",
      " $ start_lat         : num  41.9 41.9 41.9 41.9 41.9 ...\n",
      " $ start_lng         : num  -87.6 -87.6 -87.7 -87.7 -87.7 ...\n",
      " $ end_lat           : num  41.9 41.8 41.9 41.9 41.9 ...\n",
      " $ end_lng           : num  -87.6 -87.6 -87.7 -87.7 -87.7 ...\n",
      " $ member_casual     : chr  \"casual\" \"casual\" \"casual\" \"casual\" ...\n",
      "'data.frame':\t729595 obs. of  13 variables:\n",
      " $ ride_id           : chr  \"99FEC93BA843FB20\" \"06048DCFC8520CAF\" \"9598066F68045DF2\" \"B03C0FE48C412214\" ...\n",
      " $ rideable_type     : chr  \"electric_bike\" \"electric_bike\" \"electric_bike\" \"electric_bike\" ...\n",
      " $ started_at        : chr  \"2021-06-13 14:31:28\" \"2021-06-04 11:18:02\" \"2021-06-04 09:49:35\" \"2021-06-03 19:56:05\" ...\n",
      " $ ended_at          : chr  \"2021-06-13 14:34:11\" \"2021-06-04 11:24:19\" \"2021-06-04 09:55:34\" \"2021-06-03 20:21:55\" ...\n",
      " $ start_station_name: chr  \"\" \"\" \"\" \"\" ...\n",
      " $ start_station_id  : chr  \"\" \"\" \"\" \"\" ...\n",
      " $ end_station_name  : chr  \"\" \"\" \"\" \"\" ...\n",
      " $ end_station_id    : chr  \"\" \"\" \"\" \"\" ...\n",
      " $ start_lat         : num  41.8 41.8 41.8 41.8 41.8 ...\n",
      " $ start_lng         : num  -87.6 -87.6 -87.6 -87.6 -87.6 ...\n",
      " $ end_lat           : num  41.8 41.8 41.8 41.8 41.8 ...\n",
      " $ end_lng           : num  -87.6 -87.6 -87.6 -87.6 -87.6 ...\n",
      " $ member_casual     : chr  \"member\" \"member\" \"member\" \"member\" ...\n"
     ]
    }
   ],
   "source": [
    "#Check the structure and columns of files to note inconsistencies and errors\n",
    "colnames(bike0720)\n",
    "colnames(bike0820)\n",
    "colnames(bike0920)\n",
    "colnames(bike1020)\n",
    "colnames(bike1120)\n",
    "colnames(bike1220)\n",
    "colnames(bike0121)\n",
    "colnames(bike0221)\n",
    "colnames(bike0321)\n",
    "colnames(bike0421)\n",
    "colnames(bike0521)\n",
    "colnames(bike0621)\n",
    "\n",
    "str(bike0720)\n",
    "str(bike0820)\n",
    "str(bike0920)\n",
    "str(bike1020)\n",
    "str(bike1120)\n",
    "str(bike1220)\n",
    "str(bike0121)\n",
    "str(bike0221)\n",
    "str(bike0321)\n",
    "str(bike0421)\n",
    "str(bike0521)\n",
    "str(bike0621)"
   ]
  },
  {
   "cell_type": "markdown",
   "id": "11ba6295",
   "metadata": {
    "papermill": {
     "duration": 0.027898,
     "end_time": "2021-08-23T15:18:46.184502",
     "exception": false,
     "start_time": "2021-08-23T15:18:46.156604",
     "status": "completed"
    },
    "tags": []
   },
   "source": [
    "After looking over the structure and column names and working with the data, I noted some things that needed to be addressed.\n",
    "\n",
    "* There were rides that had a duration of zero. These included bike inspections. They were removed.\n",
    "* The Start and End Times were char, changed them to date time.\n",
    "\n",
    "I combined the twelve files into one data frame. I also removed rows and columns with that were empty. "
   ]
  },
  {
   "cell_type": "code",
   "execution_count": 4,
   "id": "f8f2180d",
   "metadata": {
    "execution": {
     "iopub.execute_input": "2021-08-23T15:18:46.248014Z",
     "iopub.status.busy": "2021-08-23T15:18:46.246160Z",
     "iopub.status.idle": "2021-08-23T15:19:22.228353Z",
     "shell.execute_reply": "2021-08-23T15:19:22.227325Z"
    },
    "papermill": {
     "duration": 36.016038,
     "end_time": "2021-08-23T15:19:22.228583",
     "exception": false,
     "start_time": "2021-08-23T15:18:46.212545",
     "status": "completed"
    },
    "tags": []
   },
   "outputs": [],
   "source": [
    "#Combine the dataframes into one\n",
    "bike_rides<-rbind(bike0720,bike0820,bike0920,bike1020,bike1120,bike1220,bike0121,bike0221,bike0321,bike0421,bike0521,bike0621)\n",
    "\n",
    "#Clean/remove empty rows and columns\n",
    "bike_rides<-janitor::remove_empty(bike_rides, which = c(\"cols\"))\n",
    "bike_rides<-janitor::remove_empty(bike_rides, which = c(\"rows\"))"
   ]
  },
  {
   "cell_type": "markdown",
   "id": "dd8b695a",
   "metadata": {
    "papermill": {
     "duration": 0.029276,
     "end_time": "2021-08-23T15:19:22.294096",
     "exception": false,
     "start_time": "2021-08-23T15:19:22.264820",
     "status": "completed"
    },
    "tags": []
   },
   "source": [
    "As I noted earlier, I changed the datatype for the start and end times from char to date time. I also add columns for date, month, day, and day of the week to make it easier to track rides.   "
   ]
  },
  {
   "cell_type": "code",
   "execution_count": 5,
   "id": "b76aa7f6",
   "metadata": {
    "execution": {
     "iopub.execute_input": "2021-08-23T15:19:22.362052Z",
     "iopub.status.busy": "2021-08-23T15:19:22.359564Z",
     "iopub.status.idle": "2021-08-23T15:19:42.854273Z",
     "shell.execute_reply": "2021-08-23T15:19:42.852050Z"
    },
    "papermill": {
     "duration": 20.53006,
     "end_time": "2021-08-23T15:19:42.854559",
     "exception": false,
     "start_time": "2021-08-23T15:19:22.324499",
     "status": "completed"
    },
    "tags": []
   },
   "outputs": [],
   "source": [
    "#Change data type from char into date\n",
    "bike_rides$started_at <- lubridate::ymd_hms(bike_rides$started_at)\n",
    "bike_rides$ended_at <- lubridate::ymd_hms(bike_rides$ended_at)\n",
    "\n",
    "#Create hour field to calculate duration and busiest hours used\n",
    "bike_rides$start_hour<-lubridate::hour(bike_rides$started_at)\n",
    "bike_rides$end_hour<- lubridate::hour(bike_rides$ended_at)\n",
    "\n",
    "#Add date,month, day, and year of bike rides\n",
    "bike_rides$date <- as.Date(bike_rides$started_at)\n",
    "bike_rides$month <- format(as.Date(bike_rides$date), \"%m\")\n",
    "bike_rides$day <- format(as.Date(bike_rides$date), \"%d\")\n",
    "bike_rides$year <- format(as.Date(bike_rides$date), \"%Y\")\n",
    "bike_rides$day_of_week <- format(as.Date(bike_rides$date), \"%A\")\n",
    "\n",
    "#Calculate ride duration by hour and minutes\n",
    "bike_rides$ride_duration_hrs <- difftime(bike_rides$ended_at,bike_rides$started_at, units=c(\"hours\"))\n",
    "bike_rides$ride_duration_mins <- difftime(bike_rides$ended_at,bike_rides$started_at, units=c(\"mins\"))"
   ]
  },
  {
   "cell_type": "markdown",
   "id": "7ba25960",
   "metadata": {
    "papermill": {
     "duration": 0.028435,
     "end_time": "2021-08-23T15:19:42.913617",
     "exception": false,
     "start_time": "2021-08-23T15:19:42.885182",
     "status": "completed"
    },
    "tags": []
   },
   "source": [
    "After reviewing the data again, I then calculate ride time (ride duration). I cleaned up the data by removing bike inspections where the duration is 0. "
   ]
  },
  {
   "cell_type": "code",
   "execution_count": 6,
   "id": "47040d77",
   "metadata": {
    "execution": {
     "iopub.execute_input": "2021-08-23T15:19:42.978158Z",
     "iopub.status.busy": "2021-08-23T15:19:42.975999Z",
     "iopub.status.idle": "2021-08-23T15:19:58.220890Z",
     "shell.execute_reply": "2021-08-23T15:19:58.219059Z"
    },
    "papermill": {
     "duration": 15.279047,
     "end_time": "2021-08-23T15:19:58.221134",
     "exception": false,
     "start_time": "2021-08-23T15:19:42.942087",
     "status": "completed"
    },
    "tags": []
   },
   "outputs": [
    {
     "data": {
      "text/html": [
       "<table class=\"dataframe\">\n",
       "<caption>A data.frame: 6 × 22</caption>\n",
       "<thead>\n",
       "\t<tr><th></th><th scope=col>ride_id</th><th scope=col>rideable_type</th><th scope=col>started_at</th><th scope=col>ended_at</th><th scope=col>start_station_name</th><th scope=col>start_station_id</th><th scope=col>end_station_name</th><th scope=col>end_station_id</th><th scope=col>start_lat</th><th scope=col>start_lng</th><th scope=col>⋯</th><th scope=col>member_casual</th><th scope=col>start_hour</th><th scope=col>end_hour</th><th scope=col>date</th><th scope=col>month</th><th scope=col>day</th><th scope=col>year</th><th scope=col>day_of_week</th><th scope=col>ride_duration_hrs</th><th scope=col>ride_duration_mins</th></tr>\n",
       "\t<tr><th></th><th scope=col>&lt;chr&gt;</th><th scope=col>&lt;chr&gt;</th><th scope=col>&lt;dttm&gt;</th><th scope=col>&lt;dttm&gt;</th><th scope=col>&lt;chr&gt;</th><th scope=col>&lt;chr&gt;</th><th scope=col>&lt;chr&gt;</th><th scope=col>&lt;chr&gt;</th><th scope=col>&lt;dbl&gt;</th><th scope=col>&lt;dbl&gt;</th><th scope=col>⋯</th><th scope=col>&lt;chr&gt;</th><th scope=col>&lt;int&gt;</th><th scope=col>&lt;int&gt;</th><th scope=col>&lt;date&gt;</th><th scope=col>&lt;chr&gt;</th><th scope=col>&lt;chr&gt;</th><th scope=col>&lt;chr&gt;</th><th scope=col>&lt;chr&gt;</th><th scope=col>&lt;drtn&gt;</th><th scope=col>&lt;drtn&gt;</th></tr>\n",
       "</thead>\n",
       "<tbody>\n",
       "\t<tr><th scope=row>1</th><td>762198876D69004D</td><td>docked_bike</td><td>2020-07-09 15:22:02</td><td>2020-07-09 15:25:52</td><td><span style=white-space:pre-wrap>Ritchie Ct &amp; Banks St        </span></td><td>180</td><td>Wells St &amp; Evergreen Ave </td><td>291</td><td>41.90687</td><td>-87.62622</td><td>⋯</td><td>member</td><td>15</td><td>15</td><td>2020-07-09</td><td>07</td><td>09</td><td>2020</td><td>Thursday </td><td>0.06388889 hours</td><td> 3.833333 mins</td></tr>\n",
       "\t<tr><th scope=row>2</th><td>BEC9C9FBA0D4CF1B</td><td>docked_bike</td><td>2020-07-24 23:56:30</td><td>2020-07-25 00:20:17</td><td><span style=white-space:pre-wrap>Halsted St &amp; Roscoe St       </span></td><td>299</td><td><span style=white-space:pre-wrap>Broadway &amp; Ridge Ave     </span></td><td>461</td><td>41.94367</td><td>-87.64895</td><td>⋯</td><td>member</td><td>23</td><td> 0</td><td>2020-07-24</td><td>07</td><td>24</td><td>2020</td><td><span style=white-space:pre-wrap>Friday   </span></td><td>0.39638889 hours</td><td>23.783333 mins</td></tr>\n",
       "\t<tr><th scope=row>3</th><td>D2FD8EA432C77EC1</td><td>docked_bike</td><td>2020-07-08 19:49:07</td><td>2020-07-08 19:56:22</td><td>Lake Shore Dr &amp; Diversey Pkwy</td><td>329</td><td>Clark St &amp; Wellington Ave</td><td>156</td><td>41.93259</td><td>-87.63643</td><td>⋯</td><td>casual</td><td>19</td><td>19</td><td>2020-07-08</td><td>07</td><td>08</td><td>2020</td><td>Wednesday</td><td>0.12083333 hours</td><td> 7.250000 mins</td></tr>\n",
       "\t<tr><th scope=row>4</th><td>54AE594E20B35881</td><td>docked_bike</td><td>2020-07-17 19:06:42</td><td>2020-07-17 19:27:38</td><td><span style=white-space:pre-wrap>LaSalle St &amp; Illinois St     </span></td><td>181</td><td><span style=white-space:pre-wrap>Clark St &amp; Armitage Ave  </span></td><td>94 </td><td>41.89076</td><td>-87.63170</td><td>⋯</td><td>casual</td><td>19</td><td>19</td><td>2020-07-17</td><td>07</td><td>17</td><td>2020</td><td><span style=white-space:pre-wrap>Friday   </span></td><td>0.34888889 hours</td><td>20.933333 mins</td></tr>\n",
       "\t<tr><th scope=row>5</th><td>54025FDC7440B56F</td><td>docked_bike</td><td>2020-07-04 10:39:57</td><td>2020-07-04 10:45:05</td><td><span style=white-space:pre-wrap>Lake Shore Dr &amp; North Blvd   </span></td><td>268</td><td><span style=white-space:pre-wrap>Clark St &amp; Schiller St   </span></td><td>301</td><td>41.91172</td><td>-87.62680</td><td>⋯</td><td>member</td><td>10</td><td>10</td><td>2020-07-04</td><td>07</td><td>04</td><td>2020</td><td>Saturday </td><td>0.08555556 hours</td><td> 5.133333 mins</td></tr>\n",
       "\t<tr><th scope=row>6</th><td>65636B619E24257F</td><td>docked_bike</td><td>2020-07-28 16:33:03</td><td>2020-07-28 16:49:10</td><td><span style=white-space:pre-wrap>Fairbanks St &amp; Superior St   </span></td><td>635</td><td><span style=white-space:pre-wrap>Wells St &amp; Concord Ln    </span></td><td>289</td><td>41.89575</td><td>-87.62010</td><td>⋯</td><td>casual</td><td>16</td><td>16</td><td>2020-07-28</td><td>07</td><td>28</td><td>2020</td><td><span style=white-space:pre-wrap>Tuesday  </span></td><td>0.26861111 hours</td><td>16.116667 mins</td></tr>\n",
       "</tbody>\n",
       "</table>\n"
      ],
      "text/latex": [
       "A data.frame: 6 × 22\n",
       "\\begin{tabular}{r|lllllllllllllllllllll}\n",
       "  & ride\\_id & rideable\\_type & started\\_at & ended\\_at & start\\_station\\_name & start\\_station\\_id & end\\_station\\_name & end\\_station\\_id & start\\_lat & start\\_lng & ⋯ & member\\_casual & start\\_hour & end\\_hour & date & month & day & year & day\\_of\\_week & ride\\_duration\\_hrs & ride\\_duration\\_mins\\\\\n",
       "  & <chr> & <chr> & <dttm> & <dttm> & <chr> & <chr> & <chr> & <chr> & <dbl> & <dbl> & ⋯ & <chr> & <int> & <int> & <date> & <chr> & <chr> & <chr> & <chr> & <drtn> & <drtn>\\\\\n",
       "\\hline\n",
       "\t1 & 762198876D69004D & docked\\_bike & 2020-07-09 15:22:02 & 2020-07-09 15:25:52 & Ritchie Ct \\& Banks St         & 180 & Wells St \\& Evergreen Ave  & 291 & 41.90687 & -87.62622 & ⋯ & member & 15 & 15 & 2020-07-09 & 07 & 09 & 2020 & Thursday  & 0.06388889 hours &  3.833333 mins\\\\\n",
       "\t2 & BEC9C9FBA0D4CF1B & docked\\_bike & 2020-07-24 23:56:30 & 2020-07-25 00:20:17 & Halsted St \\& Roscoe St        & 299 & Broadway \\& Ridge Ave      & 461 & 41.94367 & -87.64895 & ⋯ & member & 23 &  0 & 2020-07-24 & 07 & 24 & 2020 & Friday    & 0.39638889 hours & 23.783333 mins\\\\\n",
       "\t3 & D2FD8EA432C77EC1 & docked\\_bike & 2020-07-08 19:49:07 & 2020-07-08 19:56:22 & Lake Shore Dr \\& Diversey Pkwy & 329 & Clark St \\& Wellington Ave & 156 & 41.93259 & -87.63643 & ⋯ & casual & 19 & 19 & 2020-07-08 & 07 & 08 & 2020 & Wednesday & 0.12083333 hours &  7.250000 mins\\\\\n",
       "\t4 & 54AE594E20B35881 & docked\\_bike & 2020-07-17 19:06:42 & 2020-07-17 19:27:38 & LaSalle St \\& Illinois St      & 181 & Clark St \\& Armitage Ave   & 94  & 41.89076 & -87.63170 & ⋯ & casual & 19 & 19 & 2020-07-17 & 07 & 17 & 2020 & Friday    & 0.34888889 hours & 20.933333 mins\\\\\n",
       "\t5 & 54025FDC7440B56F & docked\\_bike & 2020-07-04 10:39:57 & 2020-07-04 10:45:05 & Lake Shore Dr \\& North Blvd    & 268 & Clark St \\& Schiller St    & 301 & 41.91172 & -87.62680 & ⋯ & member & 10 & 10 & 2020-07-04 & 07 & 04 & 2020 & Saturday  & 0.08555556 hours &  5.133333 mins\\\\\n",
       "\t6 & 65636B619E24257F & docked\\_bike & 2020-07-28 16:33:03 & 2020-07-28 16:49:10 & Fairbanks St \\& Superior St    & 635 & Wells St \\& Concord Ln     & 289 & 41.89575 & -87.62010 & ⋯ & casual & 16 & 16 & 2020-07-28 & 07 & 28 & 2020 & Tuesday   & 0.26861111 hours & 16.116667 mins\\\\\n",
       "\\end{tabular}\n"
      ],
      "text/markdown": [
       "\n",
       "A data.frame: 6 × 22\n",
       "\n",
       "| <!--/--> | ride_id &lt;chr&gt; | rideable_type &lt;chr&gt; | started_at &lt;dttm&gt; | ended_at &lt;dttm&gt; | start_station_name &lt;chr&gt; | start_station_id &lt;chr&gt; | end_station_name &lt;chr&gt; | end_station_id &lt;chr&gt; | start_lat &lt;dbl&gt; | start_lng &lt;dbl&gt; | ⋯ ⋯ | member_casual &lt;chr&gt; | start_hour &lt;int&gt; | end_hour &lt;int&gt; | date &lt;date&gt; | month &lt;chr&gt; | day &lt;chr&gt; | year &lt;chr&gt; | day_of_week &lt;chr&gt; | ride_duration_hrs &lt;drtn&gt; | ride_duration_mins &lt;drtn&gt; |\n",
       "|---|---|---|---|---|---|---|---|---|---|---|---|---|---|---|---|---|---|---|---|---|---|\n",
       "| 1 | 762198876D69004D | docked_bike | 2020-07-09 15:22:02 | 2020-07-09 15:25:52 | Ritchie Ct &amp; Banks St         | 180 | Wells St &amp; Evergreen Ave  | 291 | 41.90687 | -87.62622 | ⋯ | member | 15 | 15 | 2020-07-09 | 07 | 09 | 2020 | Thursday  | 0.06388889 hours |  3.833333 mins |\n",
       "| 2 | BEC9C9FBA0D4CF1B | docked_bike | 2020-07-24 23:56:30 | 2020-07-25 00:20:17 | Halsted St &amp; Roscoe St        | 299 | Broadway &amp; Ridge Ave      | 461 | 41.94367 | -87.64895 | ⋯ | member | 23 |  0 | 2020-07-24 | 07 | 24 | 2020 | Friday    | 0.39638889 hours | 23.783333 mins |\n",
       "| 3 | D2FD8EA432C77EC1 | docked_bike | 2020-07-08 19:49:07 | 2020-07-08 19:56:22 | Lake Shore Dr &amp; Diversey Pkwy | 329 | Clark St &amp; Wellington Ave | 156 | 41.93259 | -87.63643 | ⋯ | casual | 19 | 19 | 2020-07-08 | 07 | 08 | 2020 | Wednesday | 0.12083333 hours |  7.250000 mins |\n",
       "| 4 | 54AE594E20B35881 | docked_bike | 2020-07-17 19:06:42 | 2020-07-17 19:27:38 | LaSalle St &amp; Illinois St      | 181 | Clark St &amp; Armitage Ave   | 94  | 41.89076 | -87.63170 | ⋯ | casual | 19 | 19 | 2020-07-17 | 07 | 17 | 2020 | Friday    | 0.34888889 hours | 20.933333 mins |\n",
       "| 5 | 54025FDC7440B56F | docked_bike | 2020-07-04 10:39:57 | 2020-07-04 10:45:05 | Lake Shore Dr &amp; North Blvd    | 268 | Clark St &amp; Schiller St    | 301 | 41.91172 | -87.62680 | ⋯ | member | 10 | 10 | 2020-07-04 | 07 | 04 | 2020 | Saturday  | 0.08555556 hours |  5.133333 mins |\n",
       "| 6 | 65636B619E24257F | docked_bike | 2020-07-28 16:33:03 | 2020-07-28 16:49:10 | Fairbanks St &amp; Superior St    | 635 | Wells St &amp; Concord Ln     | 289 | 41.89575 | -87.62010 | ⋯ | casual | 16 | 16 | 2020-07-28 | 07 | 28 | 2020 | Tuesday   | 0.26861111 hours | 16.116667 mins |\n",
       "\n"
      ],
      "text/plain": [
       "  ride_id          rideable_type started_at          ended_at           \n",
       "1 762198876D69004D docked_bike   2020-07-09 15:22:02 2020-07-09 15:25:52\n",
       "2 BEC9C9FBA0D4CF1B docked_bike   2020-07-24 23:56:30 2020-07-25 00:20:17\n",
       "3 D2FD8EA432C77EC1 docked_bike   2020-07-08 19:49:07 2020-07-08 19:56:22\n",
       "4 54AE594E20B35881 docked_bike   2020-07-17 19:06:42 2020-07-17 19:27:38\n",
       "5 54025FDC7440B56F docked_bike   2020-07-04 10:39:57 2020-07-04 10:45:05\n",
       "6 65636B619E24257F docked_bike   2020-07-28 16:33:03 2020-07-28 16:49:10\n",
       "  start_station_name            start_station_id end_station_name         \n",
       "1 Ritchie Ct & Banks St         180              Wells St & Evergreen Ave \n",
       "2 Halsted St & Roscoe St        299              Broadway & Ridge Ave     \n",
       "3 Lake Shore Dr & Diversey Pkwy 329              Clark St & Wellington Ave\n",
       "4 LaSalle St & Illinois St      181              Clark St & Armitage Ave  \n",
       "5 Lake Shore Dr & North Blvd    268              Clark St & Schiller St   \n",
       "6 Fairbanks St & Superior St    635              Wells St & Concord Ln    \n",
       "  end_station_id start_lat start_lng ⋯ member_casual start_hour end_hour\n",
       "1 291            41.90687  -87.62622 ⋯ member        15         15      \n",
       "2 461            41.94367  -87.64895 ⋯ member        23          0      \n",
       "3 156            41.93259  -87.63643 ⋯ casual        19         19      \n",
       "4 94             41.89076  -87.63170 ⋯ casual        19         19      \n",
       "5 301            41.91172  -87.62680 ⋯ member        10         10      \n",
       "6 289            41.89575  -87.62010 ⋯ casual        16         16      \n",
       "  date       month day year day_of_week ride_duration_hrs ride_duration_mins\n",
       "1 2020-07-09 07    09  2020 Thursday    0.06388889 hours   3.833333 mins    \n",
       "2 2020-07-24 07    24  2020 Friday      0.39638889 hours  23.783333 mins    \n",
       "3 2020-07-08 07    08  2020 Wednesday   0.12083333 hours   7.250000 mins    \n",
       "4 2020-07-17 07    17  2020 Friday      0.34888889 hours  20.933333 mins    \n",
       "5 2020-07-04 07    04  2020 Saturday    0.08555556 hours   5.133333 mins    \n",
       "6 2020-07-28 07    28  2020 Tuesday     0.26861111 hours  16.116667 mins    "
      ]
     },
     "metadata": {},
     "output_type": "display_data"
    },
    {
     "name": "stdout",
     "output_type": "stream",
     "text": [
      "'data.frame':\t4332008 obs. of  22 variables:\n",
      " $ ride_id           : chr  \"762198876D69004D\" \"BEC9C9FBA0D4CF1B\" \"D2FD8EA432C77EC1\" \"54AE594E20B35881\" ...\n",
      " $ rideable_type     : chr  \"docked_bike\" \"docked_bike\" \"docked_bike\" \"docked_bike\" ...\n",
      " $ started_at        : POSIXct, format: \"2020-07-09 15:22:02\" \"2020-07-24 23:56:30\" ...\n",
      " $ ended_at          : POSIXct, format: \"2020-07-09 15:25:52\" \"2020-07-25 00:20:17\" ...\n",
      " $ start_station_name: chr  \"Ritchie Ct & Banks St\" \"Halsted St & Roscoe St\" \"Lake Shore Dr & Diversey Pkwy\" \"LaSalle St & Illinois St\" ...\n",
      " $ start_station_id  : chr  \"180\" \"299\" \"329\" \"181\" ...\n",
      " $ end_station_name  : chr  \"Wells St & Evergreen Ave\" \"Broadway & Ridge Ave\" \"Clark St & Wellington Ave\" \"Clark St & Armitage Ave\" ...\n",
      " $ end_station_id    : chr  \"291\" \"461\" \"156\" \"94\" ...\n",
      " $ start_lat         : num  41.9 41.9 41.9 41.9 41.9 ...\n",
      " $ start_lng         : num  -87.6 -87.6 -87.6 -87.6 -87.6 ...\n",
      " $ end_lat           : num  41.9 42 41.9 41.9 41.9 ...\n",
      " $ end_lng           : num  -87.6 -87.7 -87.6 -87.6 -87.6 ...\n",
      " $ member_casual     : chr  \"member\" \"member\" \"casual\" \"casual\" ...\n",
      " $ start_hour        : int  15 23 19 19 10 16 11 16 11 18 ...\n",
      " $ end_hour          : int  15 0 19 19 10 16 12 16 11 18 ...\n",
      " $ date              : Date, format: \"2020-07-09\" \"2020-07-24\" ...\n",
      " $ month             : chr  \"07\" \"07\" \"07\" \"07\" ...\n",
      " $ day               : chr  \"09\" \"24\" \"08\" \"17\" ...\n",
      " $ year              : chr  \"2020\" \"2020\" \"2020\" \"2020\" ...\n",
      " $ day_of_week       : chr  \"Thursday\" \"Friday\" \"Wednesday\" \"Friday\" ...\n",
      " $ ride_duration_hrs : 'difftime' num  0.0638888888888889 0.396388888888889 0.120833333333333 0.348888888888889 ...\n",
      "  ..- attr(*, \"units\")= chr \"hours\"\n",
      " $ ride_duration_mins: 'difftime' num  3.83333333333333 23.7833333333333 7.25 20.9333333333333 ...\n",
      "  ..- attr(*, \"units\")= chr \"mins\"\n"
     ]
    },
    {
     "data": {
      "text/html": [
       "FALSE"
      ],
      "text/latex": [
       "FALSE"
      ],
      "text/markdown": [
       "FALSE"
      ],
      "text/plain": [
       "[1] FALSE"
      ]
     },
     "metadata": {},
     "output_type": "display_data"
    },
    {
     "data": {
      "text/html": [
       "TRUE"
      ],
      "text/latex": [
       "TRUE"
      ],
      "text/markdown": [
       "TRUE"
      ],
      "text/plain": [
       "[1] TRUE"
      ]
     },
     "metadata": {},
     "output_type": "display_data"
    }
   ],
   "source": [
    "#Review dataframe\n",
    "head(bike_rides)\n",
    "str(bike_rides)\n",
    "\n",
    "#Calculate ride duration \n",
    "bike_rides$ride_duration <- difftime(bike_rides$ended_at,bike_rides$started_at)\n",
    "\n",
    "#Make sure ride_duration is numeric\n",
    "is.factor(bike_rides$ride_duration)\n",
    "bike_rides$ride_duration <- as.numeric(as.character(bike_rides$ride_duration))\n",
    "is.numeric(bike_rides$ride_duration)\n",
    "\n",
    "#Remove bike inspections & create new data frame\n",
    "bike_ridesv2<-bike_rides[!(bike_rides$start_station_name ==\"HQ QR\" | bike_rides$ride_duration<=0),]"
   ]
  },
  {
   "cell_type": "markdown",
   "id": "952b3d40",
   "metadata": {
    "papermill": {
     "duration": 0.031162,
     "end_time": "2021-08-23T15:19:58.284071",
     "exception": false,
     "start_time": "2021-08-23T15:19:58.252909",
     "status": "completed"
    },
    "tags": []
   },
   "source": [
    "## Analyze\n",
    "\n",
    "I began my analysis by calculating some key metrics about the bike rides - median, average, max,and mininum. \n",
    "\n",
    "Note: When getting the maximum ride duration, the data returned 3,356,649 minutes. Seeing that this translates to 55,000+ hours, this outlier was removed (and documented here).\n",
    "\n",
    "I also looked into which days of the weeks rides were taken to see if there was a difference between annual members and casual users. "
   ]
  },
  {
   "cell_type": "code",
   "execution_count": 7,
   "id": "ef8a97fa",
   "metadata": {
    "execution": {
     "iopub.execute_input": "2021-08-23T15:19:58.354201Z",
     "iopub.status.busy": "2021-08-23T15:19:58.351996Z",
     "iopub.status.idle": "2021-08-23T15:20:36.680102Z",
     "shell.execute_reply": "2021-08-23T15:20:36.678519Z"
    },
    "papermill": {
     "duration": 38.365221,
     "end_time": "2021-08-23T15:20:36.680325",
     "exception": false,
     "start_time": "2021-08-23T15:19:58.315104",
     "status": "completed"
    },
    "tags": []
   },
   "outputs": [
    {
     "data": {
      "text/plain": [
       "Time difference of 26.37632 mins"
      ]
     },
     "metadata": {},
     "output_type": "display_data"
    },
    {
     "data": {
      "text/plain": [
       "Time difference of 13.68333 mins"
      ]
     },
     "metadata": {},
     "output_type": "display_data"
    },
    {
     "data": {
      "text/plain": [
       "Time difference of 55944.15 mins"
      ]
     },
     "metadata": {},
     "output_type": "display_data"
    },
    {
     "data": {
      "text/plain": [
       "Time difference of 0.01666667 mins"
      ]
     },
     "metadata": {},
     "output_type": "display_data"
    },
    {
     "data": {
      "text/html": [
       "<table class=\"dataframe\">\n",
       "<caption>A data.frame: 2 × 2</caption>\n",
       "<thead>\n",
       "\t<tr><th scope=col>bike_ridesv2$member_casual</th><th scope=col>bike_ridesv2$ride_duration_mins</th></tr>\n",
       "\t<tr><th scope=col>&lt;chr&gt;</th><th scope=col>&lt;drtn&gt;</th></tr>\n",
       "</thead>\n",
       "<tbody>\n",
       "\t<tr><td>casual</td><td>41.11040 mins</td></tr>\n",
       "\t<tr><td>member</td><td>15.15917 mins</td></tr>\n",
       "</tbody>\n",
       "</table>\n"
      ],
      "text/latex": [
       "A data.frame: 2 × 2\n",
       "\\begin{tabular}{ll}\n",
       " bike\\_ridesv2\\$member\\_casual & bike\\_ridesv2\\$ride\\_duration\\_mins\\\\\n",
       " <chr> & <drtn>\\\\\n",
       "\\hline\n",
       "\t casual & 41.11040 mins\\\\\n",
       "\t member & 15.15917 mins\\\\\n",
       "\\end{tabular}\n"
      ],
      "text/markdown": [
       "\n",
       "A data.frame: 2 × 2\n",
       "\n",
       "| bike_ridesv2$member_casual &lt;chr&gt; | bike_ridesv2$ride_duration_mins &lt;drtn&gt; |\n",
       "|---|---|\n",
       "| casual | 41.11040 mins |\n",
       "| member | 15.15917 mins |\n",
       "\n"
      ],
      "text/plain": [
       "  bike_ridesv2$member_casual bike_ridesv2$ride_duration_mins\n",
       "1 casual                     41.11040 mins                  \n",
       "2 member                     15.15917 mins                  "
      ]
     },
     "metadata": {},
     "output_type": "display_data"
    },
    {
     "data": {
      "text/html": [
       "<table class=\"dataframe\">\n",
       "<caption>A data.frame: 2 × 2</caption>\n",
       "<thead>\n",
       "\t<tr><th scope=col>bike_ridesv2$member_casual</th><th scope=col>bike_ridesv2$ride_duration_mins</th></tr>\n",
       "\t<tr><th scope=col>&lt;chr&gt;</th><th scope=col>&lt;drtn&gt;</th></tr>\n",
       "</thead>\n",
       "<tbody>\n",
       "\t<tr><td>casual</td><td>19.28333 mins</td></tr>\n",
       "\t<tr><td>member</td><td>10.80000 mins</td></tr>\n",
       "</tbody>\n",
       "</table>\n"
      ],
      "text/latex": [
       "A data.frame: 2 × 2\n",
       "\\begin{tabular}{ll}\n",
       " bike\\_ridesv2\\$member\\_casual & bike\\_ridesv2\\$ride\\_duration\\_mins\\\\\n",
       " <chr> & <drtn>\\\\\n",
       "\\hline\n",
       "\t casual & 19.28333 mins\\\\\n",
       "\t member & 10.80000 mins\\\\\n",
       "\\end{tabular}\n"
      ],
      "text/markdown": [
       "\n",
       "A data.frame: 2 × 2\n",
       "\n",
       "| bike_ridesv2$member_casual &lt;chr&gt; | bike_ridesv2$ride_duration_mins &lt;drtn&gt; |\n",
       "|---|---|\n",
       "| casual | 19.28333 mins |\n",
       "| member | 10.80000 mins |\n",
       "\n"
      ],
      "text/plain": [
       "  bike_ridesv2$member_casual bike_ridesv2$ride_duration_mins\n",
       "1 casual                     19.28333 mins                  \n",
       "2 member                     10.80000 mins                  "
      ]
     },
     "metadata": {},
     "output_type": "display_data"
    },
    {
     "data": {
      "text/html": [
       "<table class=\"dataframe\">\n",
       "<caption>A data.frame: 2 × 2</caption>\n",
       "<thead>\n",
       "\t<tr><th scope=col>bike_ridesv2$member_casual</th><th scope=col>bike_ridesv2$ride_duration_mins</th></tr>\n",
       "\t<tr><th scope=col>&lt;chr&gt;</th><th scope=col>&lt;drtn&gt;</th></tr>\n",
       "</thead>\n",
       "<tbody>\n",
       "\t<tr><td>casual</td><td>55944.15 mins</td></tr>\n",
       "\t<tr><td>member</td><td>33421.37 mins</td></tr>\n",
       "</tbody>\n",
       "</table>\n"
      ],
      "text/latex": [
       "A data.frame: 2 × 2\n",
       "\\begin{tabular}{ll}\n",
       " bike\\_ridesv2\\$member\\_casual & bike\\_ridesv2\\$ride\\_duration\\_mins\\\\\n",
       " <chr> & <drtn>\\\\\n",
       "\\hline\n",
       "\t casual & 55944.15 mins\\\\\n",
       "\t member & 33421.37 mins\\\\\n",
       "\\end{tabular}\n"
      ],
      "text/markdown": [
       "\n",
       "A data.frame: 2 × 2\n",
       "\n",
       "| bike_ridesv2$member_casual &lt;chr&gt; | bike_ridesv2$ride_duration_mins &lt;drtn&gt; |\n",
       "|---|---|\n",
       "| casual | 55944.15 mins |\n",
       "| member | 33421.37 mins |\n",
       "\n"
      ],
      "text/plain": [
       "  bike_ridesv2$member_casual bike_ridesv2$ride_duration_mins\n",
       "1 casual                     55944.15 mins                  \n",
       "2 member                     33421.37 mins                  "
      ]
     },
     "metadata": {},
     "output_type": "display_data"
    },
    {
     "data": {
      "text/html": [
       "<table class=\"dataframe\">\n",
       "<caption>A data.frame: 2 × 2</caption>\n",
       "<thead>\n",
       "\t<tr><th scope=col>bike_ridesv2$member_casual</th><th scope=col>bike_ridesv2$ride_duration_mins</th></tr>\n",
       "\t<tr><th scope=col>&lt;chr&gt;</th><th scope=col>&lt;drtn&gt;</th></tr>\n",
       "</thead>\n",
       "<tbody>\n",
       "\t<tr><td>casual</td><td>0.01666667 mins</td></tr>\n",
       "\t<tr><td>member</td><td>0.01666667 mins</td></tr>\n",
       "</tbody>\n",
       "</table>\n"
      ],
      "text/latex": [
       "A data.frame: 2 × 2\n",
       "\\begin{tabular}{ll}\n",
       " bike\\_ridesv2\\$member\\_casual & bike\\_ridesv2\\$ride\\_duration\\_mins\\\\\n",
       " <chr> & <drtn>\\\\\n",
       "\\hline\n",
       "\t casual & 0.01666667 mins\\\\\n",
       "\t member & 0.01666667 mins\\\\\n",
       "\\end{tabular}\n"
      ],
      "text/markdown": [
       "\n",
       "A data.frame: 2 × 2\n",
       "\n",
       "| bike_ridesv2$member_casual &lt;chr&gt; | bike_ridesv2$ride_duration_mins &lt;drtn&gt; |\n",
       "|---|---|\n",
       "| casual | 0.01666667 mins |\n",
       "| member | 0.01666667 mins |\n",
       "\n"
      ],
      "text/plain": [
       "  bike_ridesv2$member_casual bike_ridesv2$ride_duration_mins\n",
       "1 casual                     0.01666667 mins                \n",
       "2 member                     0.01666667 mins                "
      ]
     },
     "metadata": {},
     "output_type": "display_data"
    },
    {
     "data": {
      "text/html": [
       "<table class=\"dataframe\">\n",
       "<caption>A data.frame: 14 × 3</caption>\n",
       "<thead>\n",
       "\t<tr><th scope=col>bike_ridesv2$member_casual</th><th scope=col>bike_ridesv2$day_of_week</th><th scope=col>bike_ridesv2$ride_duration</th></tr>\n",
       "\t<tr><th scope=col>&lt;chr&gt;</th><th scope=col>&lt;chr&gt;</th><th scope=col>&lt;dbl&gt;</th></tr>\n",
       "</thead>\n",
       "<tbody>\n",
       "\t<tr><td>casual</td><td>Friday   </td><td>2364.9251</td></tr>\n",
       "\t<tr><td>member</td><td>Friday   </td><td> 898.3894</td></tr>\n",
       "\t<tr><td>casual</td><td>Monday   </td><td>2397.2763</td></tr>\n",
       "\t<tr><td>member</td><td>Monday   </td><td> 880.6965</td></tr>\n",
       "\t<tr><td>casual</td><td>Saturday </td><td>2626.5091</td></tr>\n",
       "\t<tr><td>member</td><td>Saturday </td><td> 994.1986</td></tr>\n",
       "\t<tr><td>casual</td><td>Sunday   </td><td>2837.9305</td></tr>\n",
       "\t<tr><td>member</td><td>Sunday   </td><td>1030.6761</td></tr>\n",
       "\t<tr><td>casual</td><td>Thursday </td><td>2228.8629</td></tr>\n",
       "\t<tr><td>member</td><td>Thursday </td><td> 856.7785</td></tr>\n",
       "\t<tr><td>casual</td><td>Tuesday  </td><td>2176.5230</td></tr>\n",
       "\t<tr><td>member</td><td>Tuesday  </td><td> 855.9670</td></tr>\n",
       "\t<tr><td>casual</td><td>Wednesday</td><td>2225.7673</td></tr>\n",
       "\t<tr><td>member</td><td>Wednesday</td><td> 864.8341</td></tr>\n",
       "</tbody>\n",
       "</table>\n"
      ],
      "text/latex": [
       "A data.frame: 14 × 3\n",
       "\\begin{tabular}{lll}\n",
       " bike\\_ridesv2\\$member\\_casual & bike\\_ridesv2\\$day\\_of\\_week & bike\\_ridesv2\\$ride\\_duration\\\\\n",
       " <chr> & <chr> & <dbl>\\\\\n",
       "\\hline\n",
       "\t casual & Friday    & 2364.9251\\\\\n",
       "\t member & Friday    &  898.3894\\\\\n",
       "\t casual & Monday    & 2397.2763\\\\\n",
       "\t member & Monday    &  880.6965\\\\\n",
       "\t casual & Saturday  & 2626.5091\\\\\n",
       "\t member & Saturday  &  994.1986\\\\\n",
       "\t casual & Sunday    & 2837.9305\\\\\n",
       "\t member & Sunday    & 1030.6761\\\\\n",
       "\t casual & Thursday  & 2228.8629\\\\\n",
       "\t member & Thursday  &  856.7785\\\\\n",
       "\t casual & Tuesday   & 2176.5230\\\\\n",
       "\t member & Tuesday   &  855.9670\\\\\n",
       "\t casual & Wednesday & 2225.7673\\\\\n",
       "\t member & Wednesday &  864.8341\\\\\n",
       "\\end{tabular}\n"
      ],
      "text/markdown": [
       "\n",
       "A data.frame: 14 × 3\n",
       "\n",
       "| bike_ridesv2$member_casual &lt;chr&gt; | bike_ridesv2$day_of_week &lt;chr&gt; | bike_ridesv2$ride_duration &lt;dbl&gt; |\n",
       "|---|---|---|\n",
       "| casual | Friday    | 2364.9251 |\n",
       "| member | Friday    |  898.3894 |\n",
       "| casual | Monday    | 2397.2763 |\n",
       "| member | Monday    |  880.6965 |\n",
       "| casual | Saturday  | 2626.5091 |\n",
       "| member | Saturday  |  994.1986 |\n",
       "| casual | Sunday    | 2837.9305 |\n",
       "| member | Sunday    | 1030.6761 |\n",
       "| casual | Thursday  | 2228.8629 |\n",
       "| member | Thursday  |  856.7785 |\n",
       "| casual | Tuesday   | 2176.5230 |\n",
       "| member | Tuesday   |  855.9670 |\n",
       "| casual | Wednesday | 2225.7673 |\n",
       "| member | Wednesday |  864.8341 |\n",
       "\n"
      ],
      "text/plain": [
       "   bike_ridesv2$member_casual bike_ridesv2$day_of_week\n",
       "1  casual                     Friday                  \n",
       "2  member                     Friday                  \n",
       "3  casual                     Monday                  \n",
       "4  member                     Monday                  \n",
       "5  casual                     Saturday                \n",
       "6  member                     Saturday                \n",
       "7  casual                     Sunday                  \n",
       "8  member                     Sunday                  \n",
       "9  casual                     Thursday                \n",
       "10 member                     Thursday                \n",
       "11 casual                     Tuesday                 \n",
       "12 member                     Tuesday                 \n",
       "13 casual                     Wednesday               \n",
       "14 member                     Wednesday               \n",
       "   bike_ridesv2$ride_duration\n",
       "1  2364.9251                 \n",
       "2   898.3894                 \n",
       "3  2397.2763                 \n",
       "4   880.6965                 \n",
       "5  2626.5091                 \n",
       "6   994.1986                 \n",
       "7  2837.9305                 \n",
       "8  1030.6761                 \n",
       "9  2228.8629                 \n",
       "10  856.7785                 \n",
       "11 2176.5230                 \n",
       "12  855.9670                 \n",
       "13 2225.7673                 \n",
       "14  864.8341                 "
      ]
     },
     "metadata": {},
     "output_type": "display_data"
    },
    {
     "data": {
      "text/html": [
       "<table class=\"dataframe\">\n",
       "<caption>A data.frame: 14 × 3</caption>\n",
       "<thead>\n",
       "\t<tr><th scope=col>bike_ridesv2$member_casual</th><th scope=col>bike_ridesv2$day_of_week</th><th scope=col>bike_ridesv2$ride_duration</th></tr>\n",
       "\t<tr><th scope=col>&lt;chr&gt;</th><th scope=col>&lt;ord&gt;</th><th scope=col>&lt;dbl&gt;</th></tr>\n",
       "</thead>\n",
       "<tbody>\n",
       "\t<tr><td>casual</td><td>Sunday   </td><td>2837.9305</td></tr>\n",
       "\t<tr><td>member</td><td>Sunday   </td><td>1030.6761</td></tr>\n",
       "\t<tr><td>casual</td><td>Monday   </td><td>2397.2763</td></tr>\n",
       "\t<tr><td>member</td><td>Monday   </td><td> 880.6965</td></tr>\n",
       "\t<tr><td>casual</td><td>Tuesday  </td><td>2176.5230</td></tr>\n",
       "\t<tr><td>member</td><td>Tuesday  </td><td> 855.9670</td></tr>\n",
       "\t<tr><td>casual</td><td>Wednesday</td><td>2225.7673</td></tr>\n",
       "\t<tr><td>member</td><td>Wednesday</td><td> 864.8341</td></tr>\n",
       "\t<tr><td>casual</td><td>Thursday </td><td>2228.8629</td></tr>\n",
       "\t<tr><td>member</td><td>Thursday </td><td> 856.7785</td></tr>\n",
       "\t<tr><td>casual</td><td>Friday   </td><td>2364.9251</td></tr>\n",
       "\t<tr><td>member</td><td>Friday   </td><td> 898.3894</td></tr>\n",
       "\t<tr><td>casual</td><td>Saturday </td><td>2626.5091</td></tr>\n",
       "\t<tr><td>member</td><td>Saturday </td><td> 994.1986</td></tr>\n",
       "</tbody>\n",
       "</table>\n"
      ],
      "text/latex": [
       "A data.frame: 14 × 3\n",
       "\\begin{tabular}{lll}\n",
       " bike\\_ridesv2\\$member\\_casual & bike\\_ridesv2\\$day\\_of\\_week & bike\\_ridesv2\\$ride\\_duration\\\\\n",
       " <chr> & <ord> & <dbl>\\\\\n",
       "\\hline\n",
       "\t casual & Sunday    & 2837.9305\\\\\n",
       "\t member & Sunday    & 1030.6761\\\\\n",
       "\t casual & Monday    & 2397.2763\\\\\n",
       "\t member & Monday    &  880.6965\\\\\n",
       "\t casual & Tuesday   & 2176.5230\\\\\n",
       "\t member & Tuesday   &  855.9670\\\\\n",
       "\t casual & Wednesday & 2225.7673\\\\\n",
       "\t member & Wednesday &  864.8341\\\\\n",
       "\t casual & Thursday  & 2228.8629\\\\\n",
       "\t member & Thursday  &  856.7785\\\\\n",
       "\t casual & Friday    & 2364.9251\\\\\n",
       "\t member & Friday    &  898.3894\\\\\n",
       "\t casual & Saturday  & 2626.5091\\\\\n",
       "\t member & Saturday  &  994.1986\\\\\n",
       "\\end{tabular}\n"
      ],
      "text/markdown": [
       "\n",
       "A data.frame: 14 × 3\n",
       "\n",
       "| bike_ridesv2$member_casual &lt;chr&gt; | bike_ridesv2$day_of_week &lt;ord&gt; | bike_ridesv2$ride_duration &lt;dbl&gt; |\n",
       "|---|---|---|\n",
       "| casual | Sunday    | 2837.9305 |\n",
       "| member | Sunday    | 1030.6761 |\n",
       "| casual | Monday    | 2397.2763 |\n",
       "| member | Monday    |  880.6965 |\n",
       "| casual | Tuesday   | 2176.5230 |\n",
       "| member | Tuesday   |  855.9670 |\n",
       "| casual | Wednesday | 2225.7673 |\n",
       "| member | Wednesday |  864.8341 |\n",
       "| casual | Thursday  | 2228.8629 |\n",
       "| member | Thursday  |  856.7785 |\n",
       "| casual | Friday    | 2364.9251 |\n",
       "| member | Friday    |  898.3894 |\n",
       "| casual | Saturday  | 2626.5091 |\n",
       "| member | Saturday  |  994.1986 |\n",
       "\n"
      ],
      "text/plain": [
       "   bike_ridesv2$member_casual bike_ridesv2$day_of_week\n",
       "1  casual                     Sunday                  \n",
       "2  member                     Sunday                  \n",
       "3  casual                     Monday                  \n",
       "4  member                     Monday                  \n",
       "5  casual                     Tuesday                 \n",
       "6  member                     Tuesday                 \n",
       "7  casual                     Wednesday               \n",
       "8  member                     Wednesday               \n",
       "9  casual                     Thursday                \n",
       "10 member                     Thursday                \n",
       "11 casual                     Friday                  \n",
       "12 member                     Friday                  \n",
       "13 casual                     Saturday                \n",
       "14 member                     Saturday                \n",
       "   bike_ridesv2$ride_duration\n",
       "1  2837.9305                 \n",
       "2  1030.6761                 \n",
       "3  2397.2763                 \n",
       "4   880.6965                 \n",
       "5  2176.5230                 \n",
       "6   855.9670                 \n",
       "7  2225.7673                 \n",
       "8   864.8341                 \n",
       "9  2228.8629                 \n",
       "10  856.7785                 \n",
       "11 2364.9251                 \n",
       "12  898.3894                 \n",
       "13 2626.5091                 \n",
       "14  994.1986                 "
      ]
     },
     "metadata": {},
     "output_type": "display_data"
    },
    {
     "data": {
      "text/html": [
       "<table class=\"dataframe\">\n",
       "<caption>A data.frame: 6 × 23</caption>\n",
       "<thead>\n",
       "\t<tr><th></th><th scope=col>ride_id</th><th scope=col>rideable_type</th><th scope=col>started_at</th><th scope=col>ended_at</th><th scope=col>start_station_name</th><th scope=col>start_station_id</th><th scope=col>end_station_name</th><th scope=col>end_station_id</th><th scope=col>start_lat</th><th scope=col>start_lng</th><th scope=col>⋯</th><th scope=col>start_hour</th><th scope=col>end_hour</th><th scope=col>date</th><th scope=col>month</th><th scope=col>day</th><th scope=col>year</th><th scope=col>day_of_week</th><th scope=col>ride_duration_hrs</th><th scope=col>ride_duration_mins</th><th scope=col>ride_duration</th></tr>\n",
       "\t<tr><th></th><th scope=col>&lt;chr&gt;</th><th scope=col>&lt;chr&gt;</th><th scope=col>&lt;dttm&gt;</th><th scope=col>&lt;dttm&gt;</th><th scope=col>&lt;chr&gt;</th><th scope=col>&lt;chr&gt;</th><th scope=col>&lt;chr&gt;</th><th scope=col>&lt;chr&gt;</th><th scope=col>&lt;dbl&gt;</th><th scope=col>&lt;dbl&gt;</th><th scope=col>⋯</th><th scope=col>&lt;int&gt;</th><th scope=col>&lt;int&gt;</th><th scope=col>&lt;date&gt;</th><th scope=col>&lt;chr&gt;</th><th scope=col>&lt;chr&gt;</th><th scope=col>&lt;chr&gt;</th><th scope=col>&lt;ord&gt;</th><th scope=col>&lt;drtn&gt;</th><th scope=col>&lt;drtn&gt;</th><th scope=col>&lt;dbl&gt;</th></tr>\n",
       "</thead>\n",
       "<tbody>\n",
       "\t<tr><th scope=row>1</th><td>762198876D69004D</td><td>docked_bike</td><td>2020-07-09 15:22:02</td><td>2020-07-09 15:25:52</td><td><span style=white-space:pre-wrap>Ritchie Ct &amp; Banks St        </span></td><td>180</td><td>Wells St &amp; Evergreen Ave </td><td>291</td><td>41.90687</td><td>-87.62622</td><td>⋯</td><td>15</td><td>15</td><td>2020-07-09</td><td>07</td><td>09</td><td>2020</td><td>Thursday </td><td>0.06388889 hours</td><td> 3.833333 mins</td><td> 230</td></tr>\n",
       "\t<tr><th scope=row>2</th><td>BEC9C9FBA0D4CF1B</td><td>docked_bike</td><td>2020-07-24 23:56:30</td><td>2020-07-25 00:20:17</td><td><span style=white-space:pre-wrap>Halsted St &amp; Roscoe St       </span></td><td>299</td><td><span style=white-space:pre-wrap>Broadway &amp; Ridge Ave     </span></td><td>461</td><td>41.94367</td><td>-87.64895</td><td>⋯</td><td>23</td><td> 0</td><td>2020-07-24</td><td>07</td><td>24</td><td>2020</td><td><span style=white-space:pre-wrap>Friday   </span></td><td>0.39638889 hours</td><td>23.783333 mins</td><td>1427</td></tr>\n",
       "\t<tr><th scope=row>3</th><td>D2FD8EA432C77EC1</td><td>docked_bike</td><td>2020-07-08 19:49:07</td><td>2020-07-08 19:56:22</td><td>Lake Shore Dr &amp; Diversey Pkwy</td><td>329</td><td>Clark St &amp; Wellington Ave</td><td>156</td><td>41.93259</td><td>-87.63643</td><td>⋯</td><td>19</td><td>19</td><td>2020-07-08</td><td>07</td><td>08</td><td>2020</td><td>Wednesday</td><td>0.12083333 hours</td><td> 7.250000 mins</td><td> 435</td></tr>\n",
       "\t<tr><th scope=row>4</th><td>54AE594E20B35881</td><td>docked_bike</td><td>2020-07-17 19:06:42</td><td>2020-07-17 19:27:38</td><td><span style=white-space:pre-wrap>LaSalle St &amp; Illinois St     </span></td><td>181</td><td><span style=white-space:pre-wrap>Clark St &amp; Armitage Ave  </span></td><td>94 </td><td>41.89076</td><td>-87.63170</td><td>⋯</td><td>19</td><td>19</td><td>2020-07-17</td><td>07</td><td>17</td><td>2020</td><td><span style=white-space:pre-wrap>Friday   </span></td><td>0.34888889 hours</td><td>20.933333 mins</td><td>1256</td></tr>\n",
       "\t<tr><th scope=row>5</th><td>54025FDC7440B56F</td><td>docked_bike</td><td>2020-07-04 10:39:57</td><td>2020-07-04 10:45:05</td><td><span style=white-space:pre-wrap>Lake Shore Dr &amp; North Blvd   </span></td><td>268</td><td><span style=white-space:pre-wrap>Clark St &amp; Schiller St   </span></td><td>301</td><td>41.91172</td><td>-87.62680</td><td>⋯</td><td>10</td><td>10</td><td>2020-07-04</td><td>07</td><td>04</td><td>2020</td><td>Saturday </td><td>0.08555556 hours</td><td> 5.133333 mins</td><td> 308</td></tr>\n",
       "\t<tr><th scope=row>6</th><td>65636B619E24257F</td><td>docked_bike</td><td>2020-07-28 16:33:03</td><td>2020-07-28 16:49:10</td><td><span style=white-space:pre-wrap>Fairbanks St &amp; Superior St   </span></td><td>635</td><td><span style=white-space:pre-wrap>Wells St &amp; Concord Ln    </span></td><td>289</td><td>41.89575</td><td>-87.62010</td><td>⋯</td><td>16</td><td>16</td><td>2020-07-28</td><td>07</td><td>28</td><td>2020</td><td><span style=white-space:pre-wrap>Tuesday  </span></td><td>0.26861111 hours</td><td>16.116667 mins</td><td> 967</td></tr>\n",
       "</tbody>\n",
       "</table>\n"
      ],
      "text/latex": [
       "A data.frame: 6 × 23\n",
       "\\begin{tabular}{r|lllllllllllllllllllll}\n",
       "  & ride\\_id & rideable\\_type & started\\_at & ended\\_at & start\\_station\\_name & start\\_station\\_id & end\\_station\\_name & end\\_station\\_id & start\\_lat & start\\_lng & ⋯ & start\\_hour & end\\_hour & date & month & day & year & day\\_of\\_week & ride\\_duration\\_hrs & ride\\_duration\\_mins & ride\\_duration\\\\\n",
       "  & <chr> & <chr> & <dttm> & <dttm> & <chr> & <chr> & <chr> & <chr> & <dbl> & <dbl> & ⋯ & <int> & <int> & <date> & <chr> & <chr> & <chr> & <ord> & <drtn> & <drtn> & <dbl>\\\\\n",
       "\\hline\n",
       "\t1 & 762198876D69004D & docked\\_bike & 2020-07-09 15:22:02 & 2020-07-09 15:25:52 & Ritchie Ct \\& Banks St         & 180 & Wells St \\& Evergreen Ave  & 291 & 41.90687 & -87.62622 & ⋯ & 15 & 15 & 2020-07-09 & 07 & 09 & 2020 & Thursday  & 0.06388889 hours &  3.833333 mins &  230\\\\\n",
       "\t2 & BEC9C9FBA0D4CF1B & docked\\_bike & 2020-07-24 23:56:30 & 2020-07-25 00:20:17 & Halsted St \\& Roscoe St        & 299 & Broadway \\& Ridge Ave      & 461 & 41.94367 & -87.64895 & ⋯ & 23 &  0 & 2020-07-24 & 07 & 24 & 2020 & Friday    & 0.39638889 hours & 23.783333 mins & 1427\\\\\n",
       "\t3 & D2FD8EA432C77EC1 & docked\\_bike & 2020-07-08 19:49:07 & 2020-07-08 19:56:22 & Lake Shore Dr \\& Diversey Pkwy & 329 & Clark St \\& Wellington Ave & 156 & 41.93259 & -87.63643 & ⋯ & 19 & 19 & 2020-07-08 & 07 & 08 & 2020 & Wednesday & 0.12083333 hours &  7.250000 mins &  435\\\\\n",
       "\t4 & 54AE594E20B35881 & docked\\_bike & 2020-07-17 19:06:42 & 2020-07-17 19:27:38 & LaSalle St \\& Illinois St      & 181 & Clark St \\& Armitage Ave   & 94  & 41.89076 & -87.63170 & ⋯ & 19 & 19 & 2020-07-17 & 07 & 17 & 2020 & Friday    & 0.34888889 hours & 20.933333 mins & 1256\\\\\n",
       "\t5 & 54025FDC7440B56F & docked\\_bike & 2020-07-04 10:39:57 & 2020-07-04 10:45:05 & Lake Shore Dr \\& North Blvd    & 268 & Clark St \\& Schiller St    & 301 & 41.91172 & -87.62680 & ⋯ & 10 & 10 & 2020-07-04 & 07 & 04 & 2020 & Saturday  & 0.08555556 hours &  5.133333 mins &  308\\\\\n",
       "\t6 & 65636B619E24257F & docked\\_bike & 2020-07-28 16:33:03 & 2020-07-28 16:49:10 & Fairbanks St \\& Superior St    & 635 & Wells St \\& Concord Ln     & 289 & 41.89575 & -87.62010 & ⋯ & 16 & 16 & 2020-07-28 & 07 & 28 & 2020 & Tuesday   & 0.26861111 hours & 16.116667 mins &  967\\\\\n",
       "\\end{tabular}\n"
      ],
      "text/markdown": [
       "\n",
       "A data.frame: 6 × 23\n",
       "\n",
       "| <!--/--> | ride_id &lt;chr&gt; | rideable_type &lt;chr&gt; | started_at &lt;dttm&gt; | ended_at &lt;dttm&gt; | start_station_name &lt;chr&gt; | start_station_id &lt;chr&gt; | end_station_name &lt;chr&gt; | end_station_id &lt;chr&gt; | start_lat &lt;dbl&gt; | start_lng &lt;dbl&gt; | ⋯ ⋯ | start_hour &lt;int&gt; | end_hour &lt;int&gt; | date &lt;date&gt; | month &lt;chr&gt; | day &lt;chr&gt; | year &lt;chr&gt; | day_of_week &lt;ord&gt; | ride_duration_hrs &lt;drtn&gt; | ride_duration_mins &lt;drtn&gt; | ride_duration &lt;dbl&gt; |\n",
       "|---|---|---|---|---|---|---|---|---|---|---|---|---|---|---|---|---|---|---|---|---|---|\n",
       "| 1 | 762198876D69004D | docked_bike | 2020-07-09 15:22:02 | 2020-07-09 15:25:52 | Ritchie Ct &amp; Banks St         | 180 | Wells St &amp; Evergreen Ave  | 291 | 41.90687 | -87.62622 | ⋯ | 15 | 15 | 2020-07-09 | 07 | 09 | 2020 | Thursday  | 0.06388889 hours |  3.833333 mins |  230 |\n",
       "| 2 | BEC9C9FBA0D4CF1B | docked_bike | 2020-07-24 23:56:30 | 2020-07-25 00:20:17 | Halsted St &amp; Roscoe St        | 299 | Broadway &amp; Ridge Ave      | 461 | 41.94367 | -87.64895 | ⋯ | 23 |  0 | 2020-07-24 | 07 | 24 | 2020 | Friday    | 0.39638889 hours | 23.783333 mins | 1427 |\n",
       "| 3 | D2FD8EA432C77EC1 | docked_bike | 2020-07-08 19:49:07 | 2020-07-08 19:56:22 | Lake Shore Dr &amp; Diversey Pkwy | 329 | Clark St &amp; Wellington Ave | 156 | 41.93259 | -87.63643 | ⋯ | 19 | 19 | 2020-07-08 | 07 | 08 | 2020 | Wednesday | 0.12083333 hours |  7.250000 mins |  435 |\n",
       "| 4 | 54AE594E20B35881 | docked_bike | 2020-07-17 19:06:42 | 2020-07-17 19:27:38 | LaSalle St &amp; Illinois St      | 181 | Clark St &amp; Armitage Ave   | 94  | 41.89076 | -87.63170 | ⋯ | 19 | 19 | 2020-07-17 | 07 | 17 | 2020 | Friday    | 0.34888889 hours | 20.933333 mins | 1256 |\n",
       "| 5 | 54025FDC7440B56F | docked_bike | 2020-07-04 10:39:57 | 2020-07-04 10:45:05 | Lake Shore Dr &amp; North Blvd    | 268 | Clark St &amp; Schiller St    | 301 | 41.91172 | -87.62680 | ⋯ | 10 | 10 | 2020-07-04 | 07 | 04 | 2020 | Saturday  | 0.08555556 hours |  5.133333 mins |  308 |\n",
       "| 6 | 65636B619E24257F | docked_bike | 2020-07-28 16:33:03 | 2020-07-28 16:49:10 | Fairbanks St &amp; Superior St    | 635 | Wells St &amp; Concord Ln     | 289 | 41.89575 | -87.62010 | ⋯ | 16 | 16 | 2020-07-28 | 07 | 28 | 2020 | Tuesday   | 0.26861111 hours | 16.116667 mins |  967 |\n",
       "\n"
      ],
      "text/plain": [
       "  ride_id          rideable_type started_at          ended_at           \n",
       "1 762198876D69004D docked_bike   2020-07-09 15:22:02 2020-07-09 15:25:52\n",
       "2 BEC9C9FBA0D4CF1B docked_bike   2020-07-24 23:56:30 2020-07-25 00:20:17\n",
       "3 D2FD8EA432C77EC1 docked_bike   2020-07-08 19:49:07 2020-07-08 19:56:22\n",
       "4 54AE594E20B35881 docked_bike   2020-07-17 19:06:42 2020-07-17 19:27:38\n",
       "5 54025FDC7440B56F docked_bike   2020-07-04 10:39:57 2020-07-04 10:45:05\n",
       "6 65636B619E24257F docked_bike   2020-07-28 16:33:03 2020-07-28 16:49:10\n",
       "  start_station_name            start_station_id end_station_name         \n",
       "1 Ritchie Ct & Banks St         180              Wells St & Evergreen Ave \n",
       "2 Halsted St & Roscoe St        299              Broadway & Ridge Ave     \n",
       "3 Lake Shore Dr & Diversey Pkwy 329              Clark St & Wellington Ave\n",
       "4 LaSalle St & Illinois St      181              Clark St & Armitage Ave  \n",
       "5 Lake Shore Dr & North Blvd    268              Clark St & Schiller St   \n",
       "6 Fairbanks St & Superior St    635              Wells St & Concord Ln    \n",
       "  end_station_id start_lat start_lng ⋯ start_hour end_hour date       month day\n",
       "1 291            41.90687  -87.62622 ⋯ 15         15       2020-07-09 07    09 \n",
       "2 461            41.94367  -87.64895 ⋯ 23          0       2020-07-24 07    24 \n",
       "3 156            41.93259  -87.63643 ⋯ 19         19       2020-07-08 07    08 \n",
       "4 94             41.89076  -87.63170 ⋯ 19         19       2020-07-17 07    17 \n",
       "5 301            41.91172  -87.62680 ⋯ 10         10       2020-07-04 07    04 \n",
       "6 289            41.89575  -87.62010 ⋯ 16         16       2020-07-28 07    28 \n",
       "  year day_of_week ride_duration_hrs ride_duration_mins ride_duration\n",
       "1 2020 Thursday    0.06388889 hours   3.833333 mins      230         \n",
       "2 2020 Friday      0.39638889 hours  23.783333 mins     1427         \n",
       "3 2020 Wednesday   0.12083333 hours   7.250000 mins      435         \n",
       "4 2020 Friday      0.34888889 hours  20.933333 mins     1256         \n",
       "5 2020 Saturday    0.08555556 hours   5.133333 mins      308         \n",
       "6 2020 Tuesday     0.26861111 hours  16.116667 mins      967         "
      ]
     },
     "metadata": {},
     "output_type": "display_data"
    },
    {
     "data": {
      "text/html": [
       "<style>\n",
       ".list-inline {list-style: none; margin:0; padding: 0}\n",
       ".list-inline>li {display: inline-block}\n",
       ".list-inline>li:not(:last-child)::after {content: \"\\00b7\"; padding: 0 .5ex}\n",
       "</style>\n",
       "<ol class=list-inline><li>'ride_id'</li><li>'rideable_type'</li><li>'started_at'</li><li>'ended_at'</li><li>'start_station_name'</li><li>'start_station_id'</li><li>'end_station_name'</li><li>'end_station_id'</li><li>'start_lat'</li><li>'start_lng'</li><li>'end_lat'</li><li>'end_lng'</li><li>'member_casual'</li><li>'start_hour'</li><li>'end_hour'</li><li>'date'</li><li>'month'</li><li>'day'</li><li>'year'</li><li>'day_of_week'</li><li>'ride_duration_hrs'</li><li>'ride_duration_mins'</li><li>'ride_duration'</li></ol>\n"
      ],
      "text/latex": [
       "\\begin{enumerate*}\n",
       "\\item 'ride\\_id'\n",
       "\\item 'rideable\\_type'\n",
       "\\item 'started\\_at'\n",
       "\\item 'ended\\_at'\n",
       "\\item 'start\\_station\\_name'\n",
       "\\item 'start\\_station\\_id'\n",
       "\\item 'end\\_station\\_name'\n",
       "\\item 'end\\_station\\_id'\n",
       "\\item 'start\\_lat'\n",
       "\\item 'start\\_lng'\n",
       "\\item 'end\\_lat'\n",
       "\\item 'end\\_lng'\n",
       "\\item 'member\\_casual'\n",
       "\\item 'start\\_hour'\n",
       "\\item 'end\\_hour'\n",
       "\\item 'date'\n",
       "\\item 'month'\n",
       "\\item 'day'\n",
       "\\item 'year'\n",
       "\\item 'day\\_of\\_week'\n",
       "\\item 'ride\\_duration\\_hrs'\n",
       "\\item 'ride\\_duration\\_mins'\n",
       "\\item 'ride\\_duration'\n",
       "\\end{enumerate*}\n"
      ],
      "text/markdown": [
       "1. 'ride_id'\n",
       "2. 'rideable_type'\n",
       "3. 'started_at'\n",
       "4. 'ended_at'\n",
       "5. 'start_station_name'\n",
       "6. 'start_station_id'\n",
       "7. 'end_station_name'\n",
       "8. 'end_station_id'\n",
       "9. 'start_lat'\n",
       "10. 'start_lng'\n",
       "11. 'end_lat'\n",
       "12. 'end_lng'\n",
       "13. 'member_casual'\n",
       "14. 'start_hour'\n",
       "15. 'end_hour'\n",
       "16. 'date'\n",
       "17. 'month'\n",
       "18. 'day'\n",
       "19. 'year'\n",
       "20. 'day_of_week'\n",
       "21. 'ride_duration_hrs'\n",
       "22. 'ride_duration_mins'\n",
       "23. 'ride_duration'\n",
       "\n",
       "\n"
      ],
      "text/plain": [
       " [1] \"ride_id\"            \"rideable_type\"      \"started_at\"        \n",
       " [4] \"ended_at\"           \"start_station_name\" \"start_station_id\"  \n",
       " [7] \"end_station_name\"   \"end_station_id\"     \"start_lat\"         \n",
       "[10] \"start_lng\"          \"end_lat\"            \"end_lng\"           \n",
       "[13] \"member_casual\"      \"start_hour\"         \"end_hour\"          \n",
       "[16] \"date\"               \"month\"              \"day\"               \n",
       "[19] \"year\"               \"day_of_week\"        \"ride_duration_hrs\" \n",
       "[22] \"ride_duration_mins\" \"ride_duration\"     "
      ]
     },
     "metadata": {},
     "output_type": "display_data"
    },
    {
     "name": "stderr",
     "output_type": "stream",
     "text": [
      "`summarise()` has grouped output by 'member_casual'. You can override using the `.groups` argument.\n",
      "\n"
     ]
    },
    {
     "data": {
      "text/html": [
       "<table class=\"dataframe\">\n",
       "<caption>A grouped_df: 14 × 4</caption>\n",
       "<thead>\n",
       "\t<tr><th scope=col>member_casual</th><th scope=col>weekday</th><th scope=col>number_of_rides</th><th scope=col>average_duration_mins</th></tr>\n",
       "\t<tr><th scope=col>&lt;chr&gt;</th><th scope=col>&lt;ord&gt;</th><th scope=col>&lt;int&gt;</th><th scope=col>&lt;dbl&gt;</th></tr>\n",
       "</thead>\n",
       "<tbody>\n",
       "\t<tr><td>casual</td><td>Sun</td><td>355366</td><td>2837.9305</td></tr>\n",
       "\t<tr><td>casual</td><td>Mon</td><td>201782</td><td>2397.2763</td></tr>\n",
       "\t<tr><td>casual</td><td>Tue</td><td>199616</td><td>2176.5230</td></tr>\n",
       "\t<tr><td>casual</td><td>Wed</td><td>211513</td><td>2225.7673</td></tr>\n",
       "\t<tr><td>casual</td><td>Thu</td><td>206653</td><td>2228.8629</td></tr>\n",
       "\t<tr><td>casual</td><td>Fri</td><td>270701</td><td>2364.9251</td></tr>\n",
       "\t<tr><td>casual</td><td>Sat</td><td>422555</td><td>2626.5091</td></tr>\n",
       "\t<tr><td>member</td><td>Sun</td><td>311887</td><td>1030.6761</td></tr>\n",
       "\t<tr><td>member</td><td>Mon</td><td>321961</td><td> 880.6965</td></tr>\n",
       "\t<tr><td>member</td><td>Tue</td><td>358611</td><td> 855.9670</td></tr>\n",
       "\t<tr><td>member</td><td>Wed</td><td>383065</td><td> 864.8341</td></tr>\n",
       "\t<tr><td>member</td><td>Thu</td><td>355889</td><td> 856.7785</td></tr>\n",
       "\t<tr><td>member</td><td>Fri</td><td>360312</td><td> 898.3894</td></tr>\n",
       "\t<tr><td>member</td><td>Sat</td><td>362196</td><td> 994.1986</td></tr>\n",
       "</tbody>\n",
       "</table>\n"
      ],
      "text/latex": [
       "A grouped\\_df: 14 × 4\n",
       "\\begin{tabular}{llll}\n",
       " member\\_casual & weekday & number\\_of\\_rides & average\\_duration\\_mins\\\\\n",
       " <chr> & <ord> & <int> & <dbl>\\\\\n",
       "\\hline\n",
       "\t casual & Sun & 355366 & 2837.9305\\\\\n",
       "\t casual & Mon & 201782 & 2397.2763\\\\\n",
       "\t casual & Tue & 199616 & 2176.5230\\\\\n",
       "\t casual & Wed & 211513 & 2225.7673\\\\\n",
       "\t casual & Thu & 206653 & 2228.8629\\\\\n",
       "\t casual & Fri & 270701 & 2364.9251\\\\\n",
       "\t casual & Sat & 422555 & 2626.5091\\\\\n",
       "\t member & Sun & 311887 & 1030.6761\\\\\n",
       "\t member & Mon & 321961 &  880.6965\\\\\n",
       "\t member & Tue & 358611 &  855.9670\\\\\n",
       "\t member & Wed & 383065 &  864.8341\\\\\n",
       "\t member & Thu & 355889 &  856.7785\\\\\n",
       "\t member & Fri & 360312 &  898.3894\\\\\n",
       "\t member & Sat & 362196 &  994.1986\\\\\n",
       "\\end{tabular}\n"
      ],
      "text/markdown": [
       "\n",
       "A grouped_df: 14 × 4\n",
       "\n",
       "| member_casual &lt;chr&gt; | weekday &lt;ord&gt; | number_of_rides &lt;int&gt; | average_duration_mins &lt;dbl&gt; |\n",
       "|---|---|---|---|\n",
       "| casual | Sun | 355366 | 2837.9305 |\n",
       "| casual | Mon | 201782 | 2397.2763 |\n",
       "| casual | Tue | 199616 | 2176.5230 |\n",
       "| casual | Wed | 211513 | 2225.7673 |\n",
       "| casual | Thu | 206653 | 2228.8629 |\n",
       "| casual | Fri | 270701 | 2364.9251 |\n",
       "| casual | Sat | 422555 | 2626.5091 |\n",
       "| member | Sun | 311887 | 1030.6761 |\n",
       "| member | Mon | 321961 |  880.6965 |\n",
       "| member | Tue | 358611 |  855.9670 |\n",
       "| member | Wed | 383065 |  864.8341 |\n",
       "| member | Thu | 355889 |  856.7785 |\n",
       "| member | Fri | 360312 |  898.3894 |\n",
       "| member | Sat | 362196 |  994.1986 |\n",
       "\n"
      ],
      "text/plain": [
       "   member_casual weekday number_of_rides average_duration_mins\n",
       "1  casual        Sun     355366          2837.9305            \n",
       "2  casual        Mon     201782          2397.2763            \n",
       "3  casual        Tue     199616          2176.5230            \n",
       "4  casual        Wed     211513          2225.7673            \n",
       "5  casual        Thu     206653          2228.8629            \n",
       "6  casual        Fri     270701          2364.9251            \n",
       "7  casual        Sat     422555          2626.5091            \n",
       "8  member        Sun     311887          1030.6761            \n",
       "9  member        Mon     321961           880.6965            \n",
       "10 member        Tue     358611           855.9670            \n",
       "11 member        Wed     383065           864.8341            \n",
       "12 member        Thu     355889           856.7785            \n",
       "13 member        Fri     360312           898.3894            \n",
       "14 member        Sat     362196           994.1986            "
      ]
     },
     "metadata": {},
     "output_type": "display_data"
    }
   ],
   "source": [
    "#Bike Rides Analysis - looking at average, median, max, and min by minutes\n",
    "mean(bike_ridesv2$ride_duration_mins)             \n",
    "median(bike_ridesv2$ride_duration_mins)          \n",
    "max(bike_ridesv2$ride_duration_mins)\n",
    "min(bike_ridesv2$ride_duration_mins)\n",
    "\n",
    "#Compare Usage By User Type\n",
    "aggregate(bike_ridesv2$ride_duration_mins~bike_ridesv2$member_casual, FUN=mean)\n",
    "aggregate(bike_ridesv2$ride_duration_mins~bike_ridesv2$member_casual, FUN=median)\n",
    "aggregate(bike_ridesv2$ride_duration_mins~bike_ridesv2$member_casual, FUN=max)\n",
    "aggregate(bike_ridesv2$ride_duration_mins~bike_ridesv2$member_casual, FUN=min)\n",
    "\n",
    "#Breaking down and comparing average ride duration between casual and members by day of the week\n",
    "aggregate(bike_ridesv2$ride_duration~bike_ridesv2$member_casual + bike_ridesv2$day_of_week,FUN=mean)\n",
    "\n",
    "#Order this by day of week\n",
    "bike_ridesv2$day_of_week<-ordered(bike_ridesv2$day_of_week, levels=c(\"Sunday\", \"Monday\", \"Tuesday\", \"Wednesday\", \"Thursday\", \"Friday\", \"Saturday\"))\n",
    "\n",
    "#Re-run the rides to compare\n",
    "aggregate(bike_ridesv2$ride_duration~bike_ridesv2$member_casual + bike_ridesv2$day_of_week,FUN=mean)\n",
    "\n",
    "head(bike_ridesv2)\n",
    "colnames(bike_ridesv2)\n",
    "\n",
    "#More analysis - ohh goody! Breaking it down by type and weekday\n",
    "bike_ridesv2 %>%\n",
    "  mutate(weekday=wday(started_at, label =TRUE)) %>%                                            \n",
    "  group_by(member_casual,weekday) %>%                                                         \n",
    "  summarise(number_of_rides=n(),average_duration_mins = mean(ride_duration)) %>%                     \n",
    "  arrange(member_casual,weekday)            "
   ]
  },
  {
   "cell_type": "markdown",
   "id": "1e688b57",
   "metadata": {
    "papermill": {
     "duration": 0.040375,
     "end_time": "2021-08-23T15:20:36.761660",
     "exception": false,
     "start_time": "2021-08-23T15:20:36.721285",
     "status": "completed"
    },
    "tags": []
   },
   "source": [
    "## Share\n",
    "\n",
    "With some analysis done, I now start with some visualizations to easily see any key differences between annual members and casual users. "
   ]
  },
  {
   "cell_type": "code",
   "execution_count": 8,
   "id": "bed276c6",
   "metadata": {
    "execution": {
     "iopub.execute_input": "2021-08-23T15:20:36.845897Z",
     "iopub.status.busy": "2021-08-23T15:20:36.844544Z",
     "iopub.status.idle": "2021-08-23T15:20:48.351432Z",
     "shell.execute_reply": "2021-08-23T15:20:48.349810Z"
    },
    "papermill": {
     "duration": 11.550587,
     "end_time": "2021-08-23T15:20:48.351671",
     "exception": false,
     "start_time": "2021-08-23T15:20:36.801084",
     "status": "completed"
    },
    "tags": []
   },
   "outputs": [
    {
     "name": "stderr",
     "output_type": "stream",
     "text": [
      "`summarise()` has grouped output by 'member_casual'. You can override using the `.groups` argument.\n",
      "\n",
      "`summarise()` has grouped output by 'member_casual'. You can override using the `.groups` argument.\n",
      "\n"
     ]
    },
    {
     "data": {
      "image/png": "[encoded data removed]"
     },
     "metadata": {
      "image/png": {
       "height": 420,
       "width": 420
      }
     },
     "output_type": "display_data"
    },
    {
     "name": "stderr",
     "output_type": "stream",
     "text": [
      "`summarise()` has grouped output by 'rideable_type'. You can override using the `.groups` argument.\n",
      "\n"
     ]
    },
    {
     "data": {
      "image/png": "[encoded data removed]"
     },
     "metadata": {
      "image/png": {
       "height": 420,
       "width": 420
      }
     },
     "output_type": "display_data"
    },
    {
     "data": {
      "image/png": "[encoded data removed]"
     },
     "metadata": {
      "image/png": {
       "height": 420,
       "width": 420
      }
     },
     "output_type": "display_data"
    }
   ],
   "source": [
    "#Let's visualize the number of rides by rider type\n",
    "bike_ridesv2 %>%\n",
    "  mutate(weekday = wday(started_at, label =TRUE)) %>%\n",
    "  group_by(member_casual,weekday) %>% \n",
    "  summarise(number_of_rides=n(),average_duration_mins = mean(ride_duration_mins)) %>%  \n",
    "  arrange(member_casual, weekday) %>%\n",
    "  ggplot(aes(x=weekday,y=number_of_rides, fill= member_casual)) + geom_col(position=\"dodge\") + scale_y_continuous(labels = comma)\n",
    "\n",
    "#Create visualization for average duration by minutes\n",
    "bike_ridesv2 %>%\n",
    "  mutate(weekday=wday(started_at, label =TRUE)) %>% \n",
    "  group_by(member_casual,weekday)%>% \n",
    "  summarise(number_of_rides=n(), average_duration_mins = mean(ride_duration_mins)) %>% \n",
    "  arrange(member_casual, weekday)  %>%      \n",
    "  ggplot(aes(x=weekday,y=average_duration_mins, fill= member_casual)) + geom_col(position=\"dodge\") + scale_y_continuous(labels = comma)\n",
    "\n",
    "#Break data down to see which type of bike the different users ride\n",
    "bike_ridesv2 %>%\n",
    "  group_by(rideable_type, member_casual) %>%\n",
    "  summarise(number_of_trips = n()) %>%  \n",
    "  ggplot(aes(x= rideable_type, y=number_of_trips, fill= member_casual))+\n",
    "  geom_bar(stat='identity') +\n",
    "  scale_y_continuous(labels = function(x) format(x, scientific = FALSE)) +\n",
    "  labs(title =\"Which Bikes Members and Casual Users Ride\") "
   ]
  },
  {
   "cell_type": "markdown",
   "id": "afca04c5",
   "metadata": {
    "papermill": {
     "duration": 0.043792,
     "end_time": "2021-08-23T15:20:48.440450",
     "exception": false,
     "start_time": "2021-08-23T15:20:48.396658",
     "status": "completed"
    },
    "tags": []
   },
   "source": [
    "## Key Findings\n",
    "\n",
    "Looking at the data, here are some key takeaways gathered:\n",
    "* Casual users tend to ride during weekends while annual members bike mainly during the week. \n",
    "* Annual members ride less (duration) than casual riders. (This could be mean they use thier bikes to commute to work)\n",
    "\n",
    "## Recommendations\n",
    "\n",
    "Based on the data, my recommendations are: \n",
    "* Run a small A/B campaign for the top three stations used by casual users and annual users offering annual membership discounts. Expand based on results. \n",
    "* To test whether annual members are commuters, offer discounts for employers near the most popular bike stations for current members. "
   ]
  }
 ],
 "metadata": {
  "kernelspec": {
   "display_name": "R",
   "language": "R",
   "name": "ir"
  },
  "language_info": {
   "codemirror_mode": "r",
   "file_extension": ".r",
   "mimetype": "text/x-r-source",
   "name": "R",
   "pygments_lexer": "r",
   "version": "4.0.5"
  },
  "papermill": {
   "default_parameters": {},
   "duration": 231.96355,
   "end_time": "2021-08-23T15:20:48.696665",
   "environment_variables": {},
   "exception": null,
   "input_path": "__notebook__.ipynb",
   "output_path": "__notebook__.ipynb",
   "parameters": {},
   "start_time": "2021-08-23T15:16:56.733115",
   "version": "2.3.3"
  }
 },
 "nbformat": 4,
 "nbformat_minor": 5
}
